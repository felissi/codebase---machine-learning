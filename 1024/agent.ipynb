{
 "cells": [
  {
   "cell_type": "code",
   "execution_count": 22,
   "metadata": {},
   "outputs": [],
   "source": [
    "import torch\n",
    "import torch.nn as nn\n",
    "import numpy as np\n",
    "import random\n",
    "from collections import namedtuple, deque"
   ]
  },
  {
   "cell_type": "code",
   "execution_count": 23,
   "metadata": {},
   "outputs": [],
   "source": [
    "BUFFER_SIZE   = int(1e5)\n",
    "BATCH_SIZE    = 64\n",
    "GAMMA         = 0.99 # discount factor\n",
    "TAU           = 1e-3 # soft update of target parameter\n",
    "LEARNING_RATE = 5e-4\n",
    "UPDATE_EVERY  = 4    # how often to update the target"
   ]
  },
  {
   "cell_type": "code",
   "execution_count": 24,
   "metadata": {},
   "outputs": [],
   "source": [
    "device = torch.device(\"cuda\" if torch.cuda.is_available() else \"cpu\")"
   ]
  },
  {
   "cell_type": "code",
   "execution_count": 25,
   "metadata": {},
   "outputs": [],
   "source": [
    "from Board import Board\n",
    "env = Board()"
   ]
  },
  {
   "cell_type": "code",
   "execution_count": 26,
   "metadata": {},
   "outputs": [],
   "source": [
    "class QNetwork(nn.Module):\n",
    "    \"\"\" Agent Policy Network Model \"\"\"\n",
    "    def __init__(self, state_size, action_size):\n",
    "        super(QNetwork, self).__init__()\n",
    "        self.fc1 = nn.Linear(state_size, 64)\n",
    "        self.fc2 = nn.Linear(64, 64)\n",
    "        self.fc3 = nn.Linear(64, action_size)\n",
    "        self.flatten = torch.nn.Flatten()\n",
    "        \n",
    "    def forward(self, x:torch.Tensor):\n",
    "        \"\"\" state -> action values \"\"\"\n",
    "        x = self.flatten(x)\n",
    "        x = self.fc1(x)\n",
    "        x = nn.functional.relu(x)\n",
    "        x = self.fc2(x)\n",
    "        x = nn.functional.relu(x)\n",
    "        x = self.fc3(x)\n",
    "        return x\n"
   ]
  },
  {
   "cell_type": "code",
   "execution_count": 27,
   "metadata": {},
   "outputs": [
    {
     "name": "stdout",
     "output_type": "stream",
     "text": [
      "tensor([[-3.5409, -2.0157, -0.3754, -0.4303],\n",
      "        [-3.5409, -2.0157, -0.3754, -0.4303]], grad_fn=<AddmmBackward0>)\n"
     ]
    }
   ],
   "source": [
    "model = torch.nn.Sequential(\n",
    "    torch.nn.Flatten(),\n",
    "    torch.nn.Linear(16, 64),\n",
    "    torch.nn.ReLU(),\n",
    "    torch.nn.Linear(64, 4),\n",
    ")\n",
    "state = torch.from_numpy(np.array([12]*2*16).reshape(2,4,4)).float()\n",
    "print(model(state))\n"
   ]
  },
  {
   "cell_type": "code",
   "execution_count": 28,
   "metadata": {},
   "outputs": [
    {
     "name": "stdout",
     "output_type": "stream",
     "text": [
      "torch.Size([2, 4, 4])\n",
      "tensor([[ 1.1201,  0.0699, -0.2520,  0.1929],\n",
      "        [ 1.1201,  0.0699, -0.2520,  0.1929]], grad_fn=<AddmmBackward0>)\n"
     ]
    }
   ],
   "source": [
    "q = QNetwork(16,4)\n",
    "state = torch.from_numpy(np.array(list(range(16))*2).reshape(2,4,4)).float()\n",
    "# print(state)\n",
    "print(state.shape)\n",
    "print(q(state))"
   ]
  },
  {
   "cell_type": "code",
   "execution_count": 29,
   "metadata": {},
   "outputs": [],
   "source": [
    "# batch = torch.from_numpy(np.array([12]*16*BATCH_SIZE).reshape(4,4,BATCH_SIZE)).float().unsqueeze(0)\n",
    "# print(batch)\n",
    "# print(q(batch))"
   ]
  },
  {
   "cell_type": "code",
   "execution_count": 30,
   "metadata": {},
   "outputs": [],
   "source": [
    "class ReplayBuffer:\n",
    "    \"\"\" Fixed size buffer to store experience tuples \"\"\"\n",
    "\n",
    "    def __init__(self, action_size, buffer_size, batch_size):\n",
    "        self.action_size = action_size\n",
    "        self.buffer_size = buffer_size\n",
    "        self.batch_size = batch_size\n",
    "        self.experience = namedtuple('experience', field_names=[\n",
    "                                     'state', 'action', 'reward', 'next_state', 'done'])\n",
    "        self.memory: deque[self.experience] = deque(maxlen=buffer_size)\n",
    "\n",
    "    def add(self, state, action, reward, next_state, done):\n",
    "        e = self.experience(state, action, reward, next_state, done)\n",
    "        self.memory.append(e)\n",
    "\n",
    "    def sample(self):\n",
    "        \"\"\"  \"\"\"\n",
    "        experiences = random.sample(self.memory, k=self.batch_size)\n",
    "        states = torch.from_numpy(\n",
    "            np.stack([e.state for e in experiences if e is not None], axis=0)).to(device).float()\n",
    "        actions = torch.from_numpy(\n",
    "            np.stack([e.action for e in experiences if e is not None], axis=0)).to(device).float()\n",
    "        rewards = torch.from_numpy(\n",
    "            np.stack([e.reward for e in experiences if e is not None], axis=0)).to(device).float()\n",
    "        next_states = torch.from_numpy(\n",
    "            np.stack([e.next_state for e in experiences if e is not None], axis=0)).to(device).float()\n",
    "        dones = torch.from_numpy(np.stack(\n",
    "            [e.done for e in experiences if e is not None], axis=0).astype(np.uint8)).to(device).float()\n",
    "        return self.experience(states, actions, rewards, next_states, dones)\n",
    "\n",
    "    def __len__(self):\n",
    "        return len(self.memory)"
   ]
  },
  {
   "cell_type": "code",
   "execution_count": 31,
   "metadata": {},
   "outputs": [],
   "source": [
    "b=ReplayBuffer(4, BUFFER_SIZE, BATCH_SIZE)\n",
    "for i in range(100):\n",
    "    b.add(np.array([12.3]*16).reshape(4,4),0,3,np.array([12.3]*16).reshape(4,4),False)"
   ]
  },
  {
   "cell_type": "code",
   "execution_count": 32,
   "metadata": {},
   "outputs": [
    {
     "data": {
      "text/plain": [
       "torch.Size([4, 256])"
      ]
     },
     "execution_count": 32,
     "metadata": {},
     "output_type": "execute_result"
    }
   ],
   "source": [
    "t=random.sample(b.memory, k=b.batch_size)\n",
    "a = torch.cat(tuple((torch.tensor(e.state, device=device) for e in t if e is not None)),-1).to(device).float()\n",
    "a.shape\n",
    "# torch.tensor(t[-1].state).shape\n",
    "\n",
    "# tuple((e.state for e in t if e is not None))"
   ]
  },
  {
   "cell_type": "code",
   "execution_count": 33,
   "metadata": {},
   "outputs": [
    {
     "data": {
      "text/plain": [
       "experience(state=tensor([[[12.3000, 12.3000, 12.3000, 12.3000],\n",
       "         [12.3000, 12.3000, 12.3000, 12.3000],\n",
       "         [12.3000, 12.3000, 12.3000, 12.3000],\n",
       "         [12.3000, 12.3000, 12.3000, 12.3000]],\n",
       "\n",
       "        [[12.3000, 12.3000, 12.3000, 12.3000],\n",
       "         [12.3000, 12.3000, 12.3000, 12.3000],\n",
       "         [12.3000, 12.3000, 12.3000, 12.3000],\n",
       "         [12.3000, 12.3000, 12.3000, 12.3000]],\n",
       "\n",
       "        [[12.3000, 12.3000, 12.3000, 12.3000],\n",
       "         [12.3000, 12.3000, 12.3000, 12.3000],\n",
       "         [12.3000, 12.3000, 12.3000, 12.3000],\n",
       "         [12.3000, 12.3000, 12.3000, 12.3000]],\n",
       "\n",
       "        ...,\n",
       "\n",
       "        [[12.3000, 12.3000, 12.3000, 12.3000],\n",
       "         [12.3000, 12.3000, 12.3000, 12.3000],\n",
       "         [12.3000, 12.3000, 12.3000, 12.3000],\n",
       "         [12.3000, 12.3000, 12.3000, 12.3000]],\n",
       "\n",
       "        [[12.3000, 12.3000, 12.3000, 12.3000],\n",
       "         [12.3000, 12.3000, 12.3000, 12.3000],\n",
       "         [12.3000, 12.3000, 12.3000, 12.3000],\n",
       "         [12.3000, 12.3000, 12.3000, 12.3000]],\n",
       "\n",
       "        [[12.3000, 12.3000, 12.3000, 12.3000],\n",
       "         [12.3000, 12.3000, 12.3000, 12.3000],\n",
       "         [12.3000, 12.3000, 12.3000, 12.3000],\n",
       "         [12.3000, 12.3000, 12.3000, 12.3000]]], device='cuda:0'), action=tensor([0., 0., 0., 0., 0., 0., 0., 0., 0., 0., 0., 0., 0., 0., 0., 0., 0., 0., 0., 0., 0., 0., 0., 0.,\n",
       "        0., 0., 0., 0., 0., 0., 0., 0., 0., 0., 0., 0., 0., 0., 0., 0., 0., 0., 0., 0., 0., 0., 0., 0.,\n",
       "        0., 0., 0., 0., 0., 0., 0., 0., 0., 0., 0., 0., 0., 0., 0., 0.],\n",
       "       device='cuda:0'), reward=tensor([3., 3., 3., 3., 3., 3., 3., 3., 3., 3., 3., 3., 3., 3., 3., 3., 3., 3.,\n",
       "        3., 3., 3., 3., 3., 3., 3., 3., 3., 3., 3., 3., 3., 3., 3., 3., 3., 3.,\n",
       "        3., 3., 3., 3., 3., 3., 3., 3., 3., 3., 3., 3., 3., 3., 3., 3., 3., 3.,\n",
       "        3., 3., 3., 3., 3., 3., 3., 3., 3., 3.], device='cuda:0'), next_state=tensor([[[12.3000, 12.3000, 12.3000, 12.3000],\n",
       "         [12.3000, 12.3000, 12.3000, 12.3000],\n",
       "         [12.3000, 12.3000, 12.3000, 12.3000],\n",
       "         [12.3000, 12.3000, 12.3000, 12.3000]],\n",
       "\n",
       "        [[12.3000, 12.3000, 12.3000, 12.3000],\n",
       "         [12.3000, 12.3000, 12.3000, 12.3000],\n",
       "         [12.3000, 12.3000, 12.3000, 12.3000],\n",
       "         [12.3000, 12.3000, 12.3000, 12.3000]],\n",
       "\n",
       "        [[12.3000, 12.3000, 12.3000, 12.3000],\n",
       "         [12.3000, 12.3000, 12.3000, 12.3000],\n",
       "         [12.3000, 12.3000, 12.3000, 12.3000],\n",
       "         [12.3000, 12.3000, 12.3000, 12.3000]],\n",
       "\n",
       "        ...,\n",
       "\n",
       "        [[12.3000, 12.3000, 12.3000, 12.3000],\n",
       "         [12.3000, 12.3000, 12.3000, 12.3000],\n",
       "         [12.3000, 12.3000, 12.3000, 12.3000],\n",
       "         [12.3000, 12.3000, 12.3000, 12.3000]],\n",
       "\n",
       "        [[12.3000, 12.3000, 12.3000, 12.3000],\n",
       "         [12.3000, 12.3000, 12.3000, 12.3000],\n",
       "         [12.3000, 12.3000, 12.3000, 12.3000],\n",
       "         [12.3000, 12.3000, 12.3000, 12.3000]],\n",
       "\n",
       "        [[12.3000, 12.3000, 12.3000, 12.3000],\n",
       "         [12.3000, 12.3000, 12.3000, 12.3000],\n",
       "         [12.3000, 12.3000, 12.3000, 12.3000],\n",
       "         [12.3000, 12.3000, 12.3000, 12.3000]]], device='cuda:0'), done=tensor([0., 0., 0., 0., 0., 0., 0., 0., 0., 0., 0., 0., 0., 0., 0., 0., 0., 0., 0., 0., 0., 0., 0., 0.,\n",
       "        0., 0., 0., 0., 0., 0., 0., 0., 0., 0., 0., 0., 0., 0., 0., 0., 0., 0., 0., 0., 0., 0., 0., 0.,\n",
       "        0., 0., 0., 0., 0., 0., 0., 0., 0., 0., 0., 0., 0., 0., 0., 0.],\n",
       "       device='cuda:0'))"
      ]
     },
     "execution_count": 33,
     "metadata": {},
     "output_type": "execute_result"
    }
   ],
   "source": [
    "b.sample()"
   ]
  },
  {
   "cell_type": "code",
   "execution_count": 34,
   "metadata": {},
   "outputs": [
    {
     "data": {
      "text/plain": [
       "tensor([[[12.3000, 12.3000, 12.3000, 12.3000],\n",
       "         [12.3000, 12.3000, 12.3000, 12.3000],\n",
       "         [12.3000, 12.3000, 12.3000, 12.3000],\n",
       "         [12.3000, 12.3000, 12.3000, 12.3000]],\n",
       "\n",
       "        [[12.3000, 12.3000, 12.3000, 12.3000],\n",
       "         [12.3000, 12.3000, 12.3000, 12.3000],\n",
       "         [12.3000, 12.3000, 12.3000, 12.3000],\n",
       "         [12.3000, 12.3000, 12.3000, 12.3000]],\n",
       "\n",
       "        [[12.3000, 12.3000, 12.3000, 12.3000],\n",
       "         [12.3000, 12.3000, 12.3000, 12.3000],\n",
       "         [12.3000, 12.3000, 12.3000, 12.3000],\n",
       "         [12.3000, 12.3000, 12.3000, 12.3000]],\n",
       "\n",
       "        ...,\n",
       "\n",
       "        [[12.3000, 12.3000, 12.3000, 12.3000],\n",
       "         [12.3000, 12.3000, 12.3000, 12.3000],\n",
       "         [12.3000, 12.3000, 12.3000, 12.3000],\n",
       "         [12.3000, 12.3000, 12.3000, 12.3000]],\n",
       "\n",
       "        [[12.3000, 12.3000, 12.3000, 12.3000],\n",
       "         [12.3000, 12.3000, 12.3000, 12.3000],\n",
       "         [12.3000, 12.3000, 12.3000, 12.3000],\n",
       "         [12.3000, 12.3000, 12.3000, 12.3000]],\n",
       "\n",
       "        [[12.3000, 12.3000, 12.3000, 12.3000],\n",
       "         [12.3000, 12.3000, 12.3000, 12.3000],\n",
       "         [12.3000, 12.3000, 12.3000, 12.3000],\n",
       "         [12.3000, 12.3000, 12.3000, 12.3000]]], device='cuda:0')"
      ]
     },
     "execution_count": 34,
     "metadata": {},
     "output_type": "execute_result"
    }
   ],
   "source": [
    "b.sample().state"
   ]
  },
  {
   "cell_type": "code",
   "execution_count": 35,
   "metadata": {},
   "outputs": [],
   "source": [
    "class Agent:\n",
    "    def __init__(self, state_size, action_size, learning_rate):\n",
    "        self.state_size = state_size\n",
    "        self.action_size = action_size\n",
    "\n",
    "        self.qnetwork_local = QNetwork(state_size, action_size).to(device)\n",
    "        self.qnetwork_target = QNetwork(state_size, action_size).to(device)\n",
    "        self.optimizer = torch.optim.Adam(\n",
    "            self.qnetwork_local.parameters(), lr=learning_rate)\n",
    "        # replay memory\n",
    "        self.memory = ReplayBuffer(action_size, BUFFER_SIZE, BATCH_SIZE)\n",
    "\n",
    "        self.time_step = 0\n",
    "        self.eps = 0.0\n",
    "        self.gamma = 0.9\n",
    "\n",
    "    def step(self, state, action, reward, next_state, done):\n",
    "        self.memory.add(state, action, reward, next_state, done)\n",
    "        self.time_step += 1\n",
    "        \n",
    "\n",
    "    def learn_from_experience(self):\n",
    "        experience = self.memory.sample()\n",
    "        return self.learn(experience)\n",
    "\n",
    "    def q_value(self, state, eps=0.0, train=True)->torch.Tensor:\n",
    "        state = torch.from_numpy(state).float().unsqueeze(0).to(device)\n",
    "        \"\"\" (w,h)->(1,w,h) Add one dimension to the state, as the nn expect a batch.  \"\"\"\n",
    "        self.qnetwork_local.eval()\n",
    "        with torch.no_grad():\n",
    "            action_values = self.qnetwork_local(state).to(device)\n",
    "        self.qnetwork_local.train()\n",
    "        return action_values\n",
    "    \n",
    "    def decide(self, action_values:torch.Tensor, eps=0.0)->int:\n",
    "        if random.random() > eps:\n",
    "            return np.argmax(action_values.cpu().data.numpy()) #  \"addmm_cuda\" not implemented for 'Long'\n",
    "        else:\n",
    "            return random.choice(np.arange(self.action_size))\n",
    "\n",
    "    def act(self, state, eps=0.0, train=True)->int:\n",
    "        action_values = self.q_value(state, eps=eps, train=train)\n",
    "        return self.decide(action_values, eps=eps)\n",
    "\n",
    "    def learn(self, experience):\n",
    "        \"\"\" Update parameters using batch of experience tuples \"\"\"\n",
    "        states, actions, rewards, next_states, dones = experience\n",
    "        q_targets_next = self.qnetwork_target(\n",
    "            next_states).detach().max(1)[0].unsqueeze(1)\n",
    "        q_targets = rewards+self.gamma*q_targets_next*(1-dones)\n",
    "        q_expected = self.qnetwork_local(states).gather(1, actions.type(torch.int64).unsqueeze(1)).squeeze(1)\n",
    "        # Compute the loss and gradient\n",
    "        loss = torch.nn.functional.mse_loss(q_expected, q_targets)\n",
    "        self.optimizer.zero_grad()\n",
    "        loss.backward()\n",
    "        self.optimizer.step()\n",
    "\n",
    "        self.soft_update(self.qnetwork_local, self.qnetwork_target, TAU)\n",
    "        return loss\n",
    "\n",
    "    def state_to_features(self, state: np.ndarray):\n",
    "        return torch.from_numpy(state.flatten()).to(device).float().unsqueeze(0)\n",
    "\n",
    "\n",
    "    def soft_update(self, local_model, target_model, tau):\n",
    "        \"\"\" θ_target = τ*θ_local + (1 - τ)*θ_target \n",
    "        copy the weights of the local model to the target model\n",
    "        \"\"\"\n",
    "        for target_param, local_param in zip(target_model.parameters(), local_model.parameters()):\n",
    "            target_param.data.copy_(\n",
    "                tau*local_param.data+(1.0-tau)*target_param.data)"
   ]
  },
  {
   "cell_type": "code",
   "execution_count": 36,
   "metadata": {},
   "outputs": [],
   "source": [
    "a=Agent(16, 4, LEARNING_RATE)"
   ]
  },
  {
   "cell_type": "code",
   "execution_count": 37,
   "metadata": {},
   "outputs": [
    {
     "data": {
      "text/plain": [
       "Adam (\n",
       "Parameter Group 0\n",
       "    amsgrad: False\n",
       "    betas: (0.9, 0.999)\n",
       "    capturable: False\n",
       "    differentiable: False\n",
       "    eps: 1e-08\n",
       "    foreach: None\n",
       "    fused: False\n",
       "    lr: 0.0005\n",
       "    maximize: False\n",
       "    weight_decay: 0\n",
       ")"
      ]
     },
     "execution_count": 37,
     "metadata": {},
     "output_type": "execute_result"
    }
   ],
   "source": [
    "a.optimizer"
   ]
  },
  {
   "cell_type": "code",
   "execution_count": 38,
   "metadata": {},
   "outputs": [],
   "source": [
    "a.step(np.array([123]*16),0,3,np.array([123]*16),False)"
   ]
  },
  {
   "cell_type": "code",
   "execution_count": 39,
   "metadata": {},
   "outputs": [
    {
     "data": {
      "text/plain": [
       "0"
      ]
     },
     "execution_count": 39,
     "metadata": {},
     "output_type": "execute_result"
    }
   ],
   "source": [
    "a.act(np.array(list(range(16))).reshape(4,4))"
   ]
  },
  {
   "cell_type": "code",
   "execution_count": 40,
   "metadata": {},
   "outputs": [
    {
     "name": "stdout",
     "output_type": "stream",
     "text": [
      "tensor([[ 0.,  1.,  2.,  3.],\n",
      "        [ 4.,  5.,  6.,  7.],\n",
      "        [ 8.,  9., 10., 11.],\n",
      "        [12., 13., 14., 15.]], device='cuda:0')\n",
      "added dimension tensor([[[ 0.,  1.,  2.,  3.],\n",
      "         [ 4.,  5.,  6.,  7.],\n",
      "         [ 8.,  9., 10., 11.],\n",
      "         [12., 13., 14., 15.]]], device='cuda:0')\n",
      "tensor([[-0.0313,  0.3945, -0.9764,  0.5052]], device='cuda:0',\n",
      "       grad_fn=<AddmmBackward0>)\n",
      "tensor(3, device='cuda:0')\n"
     ]
    }
   ],
   "source": [
    "state = torch.tensor(np.array(list(range(16))).reshape(4,4),device=device).float()\n",
    "print(state)\n",
    "state = state.unsqueeze(0)\n",
    "print('added dimension',state)\n",
    "print(a.qnetwork_target(state))\n",
    "print(torch.argmax(a.qnetwork_target(state)))\n"
   ]
  },
  {
   "cell_type": "code",
   "execution_count": 41,
   "metadata": {},
   "outputs": [
    {
     "data": {
      "text/plain": [
       "tensor(1)"
      ]
     },
     "execution_count": 41,
     "metadata": {},
     "output_type": "execute_result"
    }
   ],
   "source": [
    "torch.argmax(torch.tensor([[ 0.1125,  0.1978,  0.0226, -0.2571]]))"
   ]
  },
  {
   "cell_type": "code",
   "execution_count": 42,
   "metadata": {},
   "outputs": [
    {
     "data": {
      "text/plain": [
       "experience(state=tensor([[[12.3000, 12.3000, 12.3000, 12.3000],\n",
       "         [12.3000, 12.3000, 12.3000, 12.3000],\n",
       "         [12.3000, 12.3000, 12.3000, 12.3000],\n",
       "         [12.3000, 12.3000, 12.3000, 12.3000]],\n",
       "\n",
       "        [[12.3000, 12.3000, 12.3000, 12.3000],\n",
       "         [12.3000, 12.3000, 12.3000, 12.3000],\n",
       "         [12.3000, 12.3000, 12.3000, 12.3000],\n",
       "         [12.3000, 12.3000, 12.3000, 12.3000]],\n",
       "\n",
       "        [[12.3000, 12.3000, 12.3000, 12.3000],\n",
       "         [12.3000, 12.3000, 12.3000, 12.3000],\n",
       "         [12.3000, 12.3000, 12.3000, 12.3000],\n",
       "         [12.3000, 12.3000, 12.3000, 12.3000]],\n",
       "\n",
       "        ...,\n",
       "\n",
       "        [[12.3000, 12.3000, 12.3000, 12.3000],\n",
       "         [12.3000, 12.3000, 12.3000, 12.3000],\n",
       "         [12.3000, 12.3000, 12.3000, 12.3000],\n",
       "         [12.3000, 12.3000, 12.3000, 12.3000]],\n",
       "\n",
       "        [[12.3000, 12.3000, 12.3000, 12.3000],\n",
       "         [12.3000, 12.3000, 12.3000, 12.3000],\n",
       "         [12.3000, 12.3000, 12.3000, 12.3000],\n",
       "         [12.3000, 12.3000, 12.3000, 12.3000]],\n",
       "\n",
       "        [[12.3000, 12.3000, 12.3000, 12.3000],\n",
       "         [12.3000, 12.3000, 12.3000, 12.3000],\n",
       "         [12.3000, 12.3000, 12.3000, 12.3000],\n",
       "         [12.3000, 12.3000, 12.3000, 12.3000]]], device='cuda:0'), action=tensor([0., 0., 0., 0., 0., 0., 0., 0., 0., 0., 0., 0., 0., 0., 0., 0., 0., 0., 0., 0., 0., 0., 0., 0.,\n",
       "        0., 0., 0., 0., 0., 0., 0., 0., 0., 0., 0., 0., 0., 0., 0., 0., 0., 0., 0., 0., 0., 0., 0., 0.,\n",
       "        0., 0., 0., 0., 0., 0., 0., 0., 0., 0., 0., 0., 0., 0., 0., 0.],\n",
       "       device='cuda:0'), reward=tensor([3., 3., 3., 3., 3., 3., 3., 3., 3., 3., 3., 3., 3., 3., 3., 3., 3., 3.,\n",
       "        3., 3., 3., 3., 3., 3., 3., 3., 3., 3., 3., 3., 3., 3., 3., 3., 3., 3.,\n",
       "        3., 3., 3., 3., 3., 3., 3., 3., 3., 3., 3., 3., 3., 3., 3., 3., 3., 3.,\n",
       "        3., 3., 3., 3., 3., 3., 3., 3., 3., 3.], device='cuda:0'), next_state=tensor([[[12.3000, 12.3000, 12.3000, 12.3000],\n",
       "         [12.3000, 12.3000, 12.3000, 12.3000],\n",
       "         [12.3000, 12.3000, 12.3000, 12.3000],\n",
       "         [12.3000, 12.3000, 12.3000, 12.3000]],\n",
       "\n",
       "        [[12.3000, 12.3000, 12.3000, 12.3000],\n",
       "         [12.3000, 12.3000, 12.3000, 12.3000],\n",
       "         [12.3000, 12.3000, 12.3000, 12.3000],\n",
       "         [12.3000, 12.3000, 12.3000, 12.3000]],\n",
       "\n",
       "        [[12.3000, 12.3000, 12.3000, 12.3000],\n",
       "         [12.3000, 12.3000, 12.3000, 12.3000],\n",
       "         [12.3000, 12.3000, 12.3000, 12.3000],\n",
       "         [12.3000, 12.3000, 12.3000, 12.3000]],\n",
       "\n",
       "        ...,\n",
       "\n",
       "        [[12.3000, 12.3000, 12.3000, 12.3000],\n",
       "         [12.3000, 12.3000, 12.3000, 12.3000],\n",
       "         [12.3000, 12.3000, 12.3000, 12.3000],\n",
       "         [12.3000, 12.3000, 12.3000, 12.3000]],\n",
       "\n",
       "        [[12.3000, 12.3000, 12.3000, 12.3000],\n",
       "         [12.3000, 12.3000, 12.3000, 12.3000],\n",
       "         [12.3000, 12.3000, 12.3000, 12.3000],\n",
       "         [12.3000, 12.3000, 12.3000, 12.3000]],\n",
       "\n",
       "        [[12.3000, 12.3000, 12.3000, 12.3000],\n",
       "         [12.3000, 12.3000, 12.3000, 12.3000],\n",
       "         [12.3000, 12.3000, 12.3000, 12.3000],\n",
       "         [12.3000, 12.3000, 12.3000, 12.3000]]], device='cuda:0'), done=tensor([0., 0., 0., 0., 0., 0., 0., 0., 0., 0., 0., 0., 0., 0., 0., 0., 0., 0., 0., 0., 0., 0., 0., 0.,\n",
       "        0., 0., 0., 0., 0., 0., 0., 0., 0., 0., 0., 0., 0., 0., 0., 0., 0., 0., 0., 0., 0., 0., 0., 0.,\n",
       "        0., 0., 0., 0., 0., 0., 0., 0., 0., 0., 0., 0., 0., 0., 0., 0.],\n",
       "       device='cuda:0'))"
      ]
     },
     "execution_count": 42,
     "metadata": {},
     "output_type": "execute_result"
    }
   ],
   "source": [
    "b.sample()"
   ]
  },
  {
   "cell_type": "code",
   "execution_count": 43,
   "metadata": {},
   "outputs": [
    {
     "data": {
      "text/plain": [
       "torch.Size([64, 4, 4])"
      ]
     },
     "execution_count": 43,
     "metadata": {},
     "output_type": "execute_result"
    }
   ],
   "source": [
    "b.sample().state.shape"
   ]
  },
  {
   "cell_type": "code",
   "execution_count": 44,
   "metadata": {},
   "outputs": [
    {
     "name": "stderr",
     "output_type": "stream",
     "text": [
      "C:\\Users\\user\\AppData\\Local\\Temp\\ipykernel_14368\\1716647577.py:45: UserWarning: Using a target size (torch.Size([64, 64])) that is different to the input size (torch.Size([64])). This will likely lead to incorrect results due to broadcasting. Please ensure they have the same size.\n",
      "  loss = torch.nn.functional.mse_loss(q_expected, q_targets)\n"
     ]
    }
   ],
   "source": [
    "a.learn(b.sample())"
   ]
  },
  {
   "cell_type": "code",
   "execution_count": 45,
   "metadata": {},
   "outputs": [],
   "source": [
    "def train(agent: Agent, n_episodes, max_time_step, eps_start, eps_end, eps_decay):\n",
    "    scores = []\n",
    "    num_rounds = []\n",
    "    scores_window = deque(maxlen=100)\n",
    "    eps = eps_start\n",
    "    for episode in range(n_episodes):\n",
    "        env.reset()\n",
    "        state = env.board\n",
    "        score = 0\n",
    "        rounds = 0\n",
    "        for time_step in range(max_time_step):\n",
    "            action = agent.act(state, eps)\n",
    "            next_state, reward, done = env.step(action)\n",
    "            agent.step(state, action, reward, next_state, done)\n",
    "            if agent.time_step % UPDATE_EVERY == 0 and len(agent.memory) > BATCH_SIZE:\n",
    "                loss = agent.learn_from_experience()\n",
    "                wandb.log({'loss':loss})\n",
    "            \"\"\" === next iteration === \"\"\"\n",
    "            state = next_state\n",
    "            score += reward\n",
    "            rounds += 1\n",
    "            if done:\n",
    "                break\n",
    "        scores_window.append(score)\n",
    "        scores.append(score)\n",
    "        num_rounds.append(rounds)\n",
    "        eps = max(eps_end, eps-eps_decay)\n",
    "        if episode % 100 == 0:\n",
    "            print(episode, np.mean(scores_window))\n",
    "            torch.save(agent.qnetwork_local.state_dict(), 'checkpoint.pt')\n",
    "    return scores, num_rounds"
   ]
  },
  {
   "cell_type": "code",
   "execution_count": 50,
   "metadata": {},
   "outputs": [
    {
     "name": "stderr",
     "output_type": "stream",
     "text": [
      "C:\\Users\\user\\AppData\\Local\\Temp\\ipykernel_14368\\1716647577.py:45: UserWarning: Using a target size (torch.Size([64, 64])) that is different to the input size (torch.Size([64])). This will likely lead to incorrect results due to broadcasting. Please ensure they have the same size.\n",
      "  loss = torch.nn.functional.mse_loss(q_expected, q_targets)\n"
     ]
    },
    {
     "name": "stdout",
     "output_type": "stream",
     "text": [
      "0 242.0\n"
     ]
    }
   ],
   "source": [
    "agent = Agent(state_size=16, action_size=4, learning_rate=LEARNING_RATE)\n",
    "scores, num_rounds = train(agent, n_episodes=100, max_time_step=1000, eps_start=1.0, eps_end=0.01, eps_decay=0.01)\n"
   ]
  },
  {
   "cell_type": "code",
   "execution_count": 51,
   "metadata": {},
   "outputs": [
    {
     "data": {
      "text/plain": [
       "[<matplotlib.lines.Line2D at 0x222572e6ce0>]"
      ]
     },
     "execution_count": 51,
     "metadata": {},
     "output_type": "execute_result"
    },
    {
     "data": {
      "image/png": "[encoded data removed]",
      "text/plain": [
       "<Figure size 640x480 with 1 Axes>"
      ]
     },
     "metadata": {},
     "output_type": "display_data"
    }
   ],
   "source": [
    "import matplotlib.pyplot as plt\n",
    "plt.plot(num_rounds)"
   ]
  },
  {
   "cell_type": "code",
   "execution_count": 52,
   "metadata": {},
   "outputs": [
    {
     "data": {
      "text/plain": [
       "(array([10., 22., 15., 12., 26.,  7.,  7.,  0.,  0.,  1.]),\n",
       " array([ 48. ,  69.6,  91.2, 112.8, 134.4, 156. , 177.6, 199.2, 220.8,\n",
       "        242.4, 264. ]),\n",
       " <BarContainer object of 10 artists>)"
      ]
     },
     "execution_count": 52,
     "metadata": {},
     "output_type": "execute_result"
    },
    {
     "data": {
      "image/png": "[encoded data removed]",
      "text/plain": [
       "<Figure size 640x480 with 1 Axes>"
      ]
     },
     "metadata": {},
     "output_type": "display_data"
    }
   ],
   "source": [
    "plt.hist(num_rounds)"
   ]
  },
  {
   "cell_type": "code",
   "execution_count": 53,
   "metadata": {},
   "outputs": [
    {
     "data": {
      "text/plain": [
       "119.0"
      ]
     },
     "execution_count": 53,
     "metadata": {},
     "output_type": "execute_result"
    }
   ],
   "source": [
    "np.percentile(num_rounds,50)"
   ]
  },
  {
   "cell_type": "code",
   "execution_count": null,
   "metadata": {},
   "outputs": [],
   "source": []
  }
 ],
 "metadata": {
  "kernelspec": {
   "display_name": "machine-learning",
   "language": "python",
   "name": "python3"
  },
  "language_info": {
   "codemirror_mode": {
    "name": "ipython",
    "version": 3
   },
   "file_extension": ".py",
   "mimetype": "text/x-python",
   "name": "python",
   "nbconvert_exporter": "python",
   "pygments_lexer": "ipython3",
   "version": "3.10.9"
  },
  "orig_nbformat": 4,
  "vscode": {
   "interpreter": {
    "hash": "d4d155ddd594e93c13dc604d9fde6a83ce6733a6c3fc0471778cef1ca6f99b89"
   }
  }
 },
 "nbformat": 4,
 "nbformat_minor": 2
}
