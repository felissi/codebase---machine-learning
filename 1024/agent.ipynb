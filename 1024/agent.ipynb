{
 "cells": [
  {
   "cell_type": "code",
   "execution_count": 9,
   "metadata": {},
   "outputs": [],
   "source": [
    "import torch\n",
    "import torch.nn as nn\n",
    "import numpy as np\n",
    "import random\n",
    "from collections import namedtuple, deque"
   ]
  },
  {
   "cell_type": "code",
   "execution_count": 10,
   "metadata": {},
   "outputs": [],
   "source": [
    "BUFFER_SIZE   = int(1e5)\n",
    "BATCH_SIZE    = 64\n",
    "GAMMA         = 0.99 # discount factor\n",
    "TAU           = 1e-3 # soft update of target parameter\n",
    "LEARNING_RATE = 5e-4\n",
    "UPDATE_EVERY  = 4    # how often to update the target"
   ]
  },
  {
   "cell_type": "code",
   "execution_count": 11,
   "metadata": {},
   "outputs": [],
   "source": [
    "device = torch.device(\"cuda\" if torch.cuda.is_available() else \"cpu\")"
   ]
  },
  {
   "cell_type": "code",
   "execution_count": 12,
   "metadata": {},
   "outputs": [],
   "source": [
    "from Board import Board\n",
    "env = Board()"
   ]
  },
  {
   "cell_type": "code",
   "execution_count": 13,
   "metadata": {},
   "outputs": [],
   "source": [
    "class QNetwork(nn.Module):\n",
    "    \"\"\" Agent Policy Network Model \"\"\"\n",
    "    def __init__(self, state_size, action_size):\n",
    "        super(QNetwork, self).__init__()\n",
    "        self.fc1 = nn.Linear(state_size, 64)\n",
    "        self.fc2 = nn.Linear(64, 64)\n",
    "        self.fc3 = nn.Linear(64, action_size)\n",
    "        self.flatten = torch.nn.Flatten()\n",
    "        \n",
    "    def forward(self, x:torch.Tensor):\n",
    "        \"\"\" state -> action values \"\"\"\n",
    "        x = self.flatten(x)\n",
    "        x = self.fc1(x)\n",
    "        x = nn.functional.relu(x)\n",
    "        x = self.fc2(x)\n",
    "        x = nn.functional.relu(x)\n",
    "        x = self.fc3(x)\n",
    "        return x\n"
   ]
  },
  {
   "cell_type": "code",
   "execution_count": 14,
   "metadata": {},
   "outputs": [
    {
     "name": "stdout",
     "output_type": "stream",
     "text": [
      "tensor([[ 1.3308, -1.2016, -2.2130,  0.0137],\n",
      "        [ 1.3308, -1.2016, -2.2130,  0.0137]], grad_fn=<AddmmBackward0>)\n"
     ]
    }
   ],
   "source": [
    "model = torch.nn.Sequential(\n",
    "    torch.nn.Flatten(),\n",
    "    torch.nn.Linear(16, 64),\n",
    "    torch.nn.ReLU(),\n",
    "    torch.nn.Linear(64, 4),\n",
    ")\n",
    "state = torch.from_numpy(np.array([12]*2*16).reshape(2,4,4)).float()\n",
    "print(model(state))\n"
   ]
  },
  {
   "cell_type": "code",
   "execution_count": 15,
   "metadata": {},
   "outputs": [
    {
     "name": "stdout",
     "output_type": "stream",
     "text": [
      "torch.Size([2, 4, 4])\n",
      "tensor([[ 0.4888, -0.2790, -0.6392, -0.2105],\n",
      "        [ 0.4888, -0.2790, -0.6392, -0.2105]], grad_fn=<AddmmBackward0>)\n"
     ]
    }
   ],
   "source": [
    "q = QNetwork(16,4)\n",
    "state = torch.from_numpy(np.array(list(range(16))*2).reshape(2,4,4)).float()\n",
    "# print(state)\n",
    "print(state.shape)\n",
    "print(q(state))"
   ]
  },
  {
   "cell_type": "code",
   "execution_count": 16,
   "metadata": {},
   "outputs": [],
   "source": [
    "# batch = torch.from_numpy(np.array([12]*16*BATCH_SIZE).reshape(4,4,BATCH_SIZE)).float().unsqueeze(0)\n",
    "# print(batch)\n",
    "# print(q(batch))"
   ]
  },
  {
   "cell_type": "code",
   "execution_count": 17,
   "metadata": {},
   "outputs": [],
   "source": [
    "class ReplayBuffer:\n",
    "    \"\"\" Fixed size buffer to store experience tuples \"\"\"\n",
    "\n",
    "    def __init__(self, action_size, buffer_size, batch_size):\n",
    "        self.action_size = action_size\n",
    "        self.buffer_size = buffer_size\n",
    "        self.batch_size = batch_size\n",
    "        self.experience = namedtuple('experience', field_names=[\n",
    "                                     'state', 'action', 'reward', 'next_state', 'done'])\n",
    "        self.memory: deque[self.experience] = deque(maxlen=buffer_size)\n",
    "\n",
    "    def add(self, state, action, reward, next_state, done):\n",
    "        e = self.experience(state, action, reward, next_state, done)\n",
    "        self.memory.append(e)\n",
    "\n",
    "    def sample(self):\n",
    "        \"\"\"  \"\"\"\n",
    "        experiences = random.sample(self.memory, k=self.batch_size)\n",
    "        states = torch.from_numpy(\n",
    "            np.stack([e.state for e in experiences if e is not None], axis=0)).to(device).float()\n",
    "        actions = torch.from_numpy(\n",
    "            np.stack([e.action for e in experiences if e is not None], axis=0)).to(device).float()\n",
    "        rewards = torch.from_numpy(\n",
    "            np.stack([e.reward for e in experiences if e is not None], axis=0)).to(device).float()\n",
    "        next_states = torch.from_numpy(\n",
    "            np.stack([e.next_state for e in experiences if e is not None], axis=0)).to(device).float()\n",
    "        dones = torch.from_numpy(np.stack(\n",
    "            [e.done for e in experiences if e is not None], axis=0).astype(np.uint8)).to(device).float()\n",
    "        return self.experience(states, actions, rewards, next_states, dones)\n",
    "\n",
    "    def __len__(self):\n",
    "        return len(self.memory)"
   ]
  },
  {
   "cell_type": "code",
   "execution_count": 18,
   "metadata": {},
   "outputs": [],
   "source": [
    "b=ReplayBuffer(4, BUFFER_SIZE, BATCH_SIZE)\n",
    "for i in range(100):\n",
    "    b.add(np.array([12.3]*16).reshape(4,4),0,3,np.array([12.3]*16).reshape(4,4),False)"
   ]
  },
  {
   "cell_type": "code",
   "execution_count": 19,
   "metadata": {},
   "outputs": [
    {
     "data": {
      "text/plain": [
       "torch.Size([4, 256])"
      ]
     },
     "execution_count": 19,
     "metadata": {},
     "output_type": "execute_result"
    }
   ],
   "source": [
    "t=random.sample(b.memory, k=b.batch_size)\n",
    "a = torch.cat(tuple((torch.tensor(e.state, device=device) for e in t if e is not None)),-1).to(device).float()\n",
    "a.shape\n",
    "# torch.tensor(t[-1].state).shape\n",
    "\n",
    "# tuple((e.state for e in t if e is not None))"
   ]
  },
  {
   "cell_type": "code",
   "execution_count": 20,
   "metadata": {},
   "outputs": [
    {
     "data": {
      "text/plain": [
       "experience(state=tensor([[[12.3000, 12.3000, 12.3000, 12.3000],\n",
       "         [12.3000, 12.3000, 12.3000, 12.3000],\n",
       "         [12.3000, 12.3000, 12.3000, 12.3000],\n",
       "         [12.3000, 12.3000, 12.3000, 12.3000]],\n",
       "\n",
       "        [[12.3000, 12.3000, 12.3000, 12.3000],\n",
       "         [12.3000, 12.3000, 12.3000, 12.3000],\n",
       "         [12.3000, 12.3000, 12.3000, 12.3000],\n",
       "         [12.3000, 12.3000, 12.3000, 12.3000]],\n",
       "\n",
       "        [[12.3000, 12.3000, 12.3000, 12.3000],\n",
       "         [12.3000, 12.3000, 12.3000, 12.3000],\n",
       "         [12.3000, 12.3000, 12.3000, 12.3000],\n",
       "         [12.3000, 12.3000, 12.3000, 12.3000]],\n",
       "\n",
       "        ...,\n",
       "\n",
       "        [[12.3000, 12.3000, 12.3000, 12.3000],\n",
       "         [12.3000, 12.3000, 12.3000, 12.3000],\n",
       "         [12.3000, 12.3000, 12.3000, 12.3000],\n",
       "         [12.3000, 12.3000, 12.3000, 12.3000]],\n",
       "\n",
       "        [[12.3000, 12.3000, 12.3000, 12.3000],\n",
       "         [12.3000, 12.3000, 12.3000, 12.3000],\n",
       "         [12.3000, 12.3000, 12.3000, 12.3000],\n",
       "         [12.3000, 12.3000, 12.3000, 12.3000]],\n",
       "\n",
       "        [[12.3000, 12.3000, 12.3000, 12.3000],\n",
       "         [12.3000, 12.3000, 12.3000, 12.3000],\n",
       "         [12.3000, 12.3000, 12.3000, 12.3000],\n",
       "         [12.3000, 12.3000, 12.3000, 12.3000]]]), action=tensor([0., 0., 0., 0., 0., 0., 0., 0., 0., 0., 0., 0., 0., 0., 0., 0., 0., 0., 0., 0., 0., 0., 0., 0.,\n",
       "        0., 0., 0., 0., 0., 0., 0., 0., 0., 0., 0., 0., 0., 0., 0., 0., 0., 0., 0., 0., 0., 0., 0., 0.,\n",
       "        0., 0., 0., 0., 0., 0., 0., 0., 0., 0., 0., 0., 0., 0., 0., 0.]), reward=tensor([3., 3., 3., 3., 3., 3., 3., 3., 3., 3., 3., 3., 3., 3., 3., 3., 3., 3.,\n",
       "        3., 3., 3., 3., 3., 3., 3., 3., 3., 3., 3., 3., 3., 3., 3., 3., 3., 3.,\n",
       "        3., 3., 3., 3., 3., 3., 3., 3., 3., 3., 3., 3., 3., 3., 3., 3., 3., 3.,\n",
       "        3., 3., 3., 3., 3., 3., 3., 3., 3., 3.]), next_state=tensor([[[12.3000, 12.3000, 12.3000, 12.3000],\n",
       "         [12.3000, 12.3000, 12.3000, 12.3000],\n",
       "         [12.3000, 12.3000, 12.3000, 12.3000],\n",
       "         [12.3000, 12.3000, 12.3000, 12.3000]],\n",
       "\n",
       "        [[12.3000, 12.3000, 12.3000, 12.3000],\n",
       "         [12.3000, 12.3000, 12.3000, 12.3000],\n",
       "         [12.3000, 12.3000, 12.3000, 12.3000],\n",
       "         [12.3000, 12.3000, 12.3000, 12.3000]],\n",
       "\n",
       "        [[12.3000, 12.3000, 12.3000, 12.3000],\n",
       "         [12.3000, 12.3000, 12.3000, 12.3000],\n",
       "         [12.3000, 12.3000, 12.3000, 12.3000],\n",
       "         [12.3000, 12.3000, 12.3000, 12.3000]],\n",
       "\n",
       "        ...,\n",
       "\n",
       "        [[12.3000, 12.3000, 12.3000, 12.3000],\n",
       "         [12.3000, 12.3000, 12.3000, 12.3000],\n",
       "         [12.3000, 12.3000, 12.3000, 12.3000],\n",
       "         [12.3000, 12.3000, 12.3000, 12.3000]],\n",
       "\n",
       "        [[12.3000, 12.3000, 12.3000, 12.3000],\n",
       "         [12.3000, 12.3000, 12.3000, 12.3000],\n",
       "         [12.3000, 12.3000, 12.3000, 12.3000],\n",
       "         [12.3000, 12.3000, 12.3000, 12.3000]],\n",
       "\n",
       "        [[12.3000, 12.3000, 12.3000, 12.3000],\n",
       "         [12.3000, 12.3000, 12.3000, 12.3000],\n",
       "         [12.3000, 12.3000, 12.3000, 12.3000],\n",
       "         [12.3000, 12.3000, 12.3000, 12.3000]]]), done=tensor([0., 0., 0., 0., 0., 0., 0., 0., 0., 0., 0., 0., 0., 0., 0., 0., 0., 0., 0., 0., 0., 0., 0., 0.,\n",
       "        0., 0., 0., 0., 0., 0., 0., 0., 0., 0., 0., 0., 0., 0., 0., 0., 0., 0., 0., 0., 0., 0., 0., 0.,\n",
       "        0., 0., 0., 0., 0., 0., 0., 0., 0., 0., 0., 0., 0., 0., 0., 0.]))"
      ]
     },
     "execution_count": 20,
     "metadata": {},
     "output_type": "execute_result"
    }
   ],
   "source": [
    "b.sample()"
   ]
  },
  {
   "cell_type": "code",
   "execution_count": 21,
   "metadata": {},
   "outputs": [
    {
     "data": {
      "text/plain": [
       "tensor([[[12.3000, 12.3000, 12.3000, 12.3000],\n",
       "         [12.3000, 12.3000, 12.3000, 12.3000],\n",
       "         [12.3000, 12.3000, 12.3000, 12.3000],\n",
       "         [12.3000, 12.3000, 12.3000, 12.3000]],\n",
       "\n",
       "        [[12.3000, 12.3000, 12.3000, 12.3000],\n",
       "         [12.3000, 12.3000, 12.3000, 12.3000],\n",
       "         [12.3000, 12.3000, 12.3000, 12.3000],\n",
       "         [12.3000, 12.3000, 12.3000, 12.3000]],\n",
       "\n",
       "        [[12.3000, 12.3000, 12.3000, 12.3000],\n",
       "         [12.3000, 12.3000, 12.3000, 12.3000],\n",
       "         [12.3000, 12.3000, 12.3000, 12.3000],\n",
       "         [12.3000, 12.3000, 12.3000, 12.3000]],\n",
       "\n",
       "        ...,\n",
       "\n",
       "        [[12.3000, 12.3000, 12.3000, 12.3000],\n",
       "         [12.3000, 12.3000, 12.3000, 12.3000],\n",
       "         [12.3000, 12.3000, 12.3000, 12.3000],\n",
       "         [12.3000, 12.3000, 12.3000, 12.3000]],\n",
       "\n",
       "        [[12.3000, 12.3000, 12.3000, 12.3000],\n",
       "         [12.3000, 12.3000, 12.3000, 12.3000],\n",
       "         [12.3000, 12.3000, 12.3000, 12.3000],\n",
       "         [12.3000, 12.3000, 12.3000, 12.3000]],\n",
       "\n",
       "        [[12.3000, 12.3000, 12.3000, 12.3000],\n",
       "         [12.3000, 12.3000, 12.3000, 12.3000],\n",
       "         [12.3000, 12.3000, 12.3000, 12.3000],\n",
       "         [12.3000, 12.3000, 12.3000, 12.3000]]])"
      ]
     },
     "execution_count": 21,
     "metadata": {},
     "output_type": "execute_result"
    }
   ],
   "source": [
    "b.sample().state"
   ]
  },
  {
   "cell_type": "code",
   "execution_count": 22,
   "metadata": {},
   "outputs": [],
   "source": [
    "class Agent:\n",
    "    def __init__(self, state_size, action_size, learning_rate):\n",
    "        self.state_size = state_size\n",
    "        self.action_size = action_size\n",
    "\n",
    "        self.qnetwork_local = QNetwork(state_size, action_size).to(device)\n",
    "        self.qnetwork_target = QNetwork(state_size, action_size).to(device)\n",
    "        self.optimizer = torch.optim.Adam(\n",
    "            self.qnetwork_local.parameters(), lr=learning_rate)\n",
    "        # replay memory\n",
    "        self.memory = ReplayBuffer(action_size, BUFFER_SIZE, BATCH_SIZE)\n",
    "\n",
    "        self.time_step = 0\n",
    "        self.eps = 0.0\n",
    "        self.gamma = 0.9\n",
    "\n",
    "    def step(self, state, action, reward, next_state, done):\n",
    "        self.memory.add(state, action, reward, next_state, done)\n",
    "        self.time_step += 1 \n",
    "        if self.time_step % UPDATE_EVERY == 0:\n",
    "            if len(self.memory) > BATCH_SIZE:\n",
    "                experience = self.memory.sample()\n",
    "                self.learn(experience)\n",
    "\n",
    "    def act(self, state, eps=0.0, train=True)->int:\n",
    "        state = torch.from_numpy(state).float().unsqueeze(0).to(device)\n",
    "        \"\"\" (w,h)->(1,w,h) Add one dimension to the state, as the nn expect a batch.  \"\"\"\n",
    "        self.qnetwork_local.eval()\n",
    "        with torch.no_grad():\n",
    "            action_values = self.qnetwork_local(state).to(device)\n",
    "        self.qnetwork_local.train()\n",
    "        if random.random() > eps:\n",
    "            return np.argmax(action_values.cpu().data.numpy()) #  \"addmm_cuda\" not implemented for 'Long'\n",
    "        else:\n",
    "            return random.choice(np.arange(self.action_size))\n",
    "\n",
    "    def learn(self, experience):\n",
    "        \"\"\" Update parameters using batch of experience tuples \"\"\"\n",
    "        states, actions, rewards, next_states, dones = experience\n",
    "        q_targets_next = self.qnetwork_target(\n",
    "            next_states).detach().max(1)[0].unsqueeze(1)\n",
    "        q_targets = rewards+self.gamma*q_targets_next*(1-dones)\n",
    "        q_expected = self.qnetwork_local(states).gather(1, actions.type(torch.int64).unsqueeze(1)).squeeze(1)\n",
    "        # Compute the loss and gradient\n",
    "        loss = torch.nn.functional.mse_loss(q_expected, q_targets)\n",
    "        self.optimizer.zero_grad()\n",
    "        loss.backward()\n",
    "        self.optimizer.step()\n",
    "\n",
    "        self.soft_update(self.qnetwork_local, self.qnetwork_target, TAU)\n",
    "\n",
    "    def state_to_features(self, state: np.ndarray):\n",
    "        return torch.from_numpy(state.flatten()).to(device).float().unsqueeze(0)\n",
    "\n",
    "\n",
    "    def soft_update(self, local_model, target_model, tau):\n",
    "        \"\"\" θ_target = τ*θ_local + (1 - τ)*θ_target \n",
    "        copy the weights of the local model to the target model\n",
    "        \"\"\"\n",
    "        for target_param, local_param in zip(target_model.parameters(), local_model.parameters()):\n",
    "            target_param.data.copy_(\n",
    "                tau*local_param.data+(1.0-tau)*target_param.data)"
   ]
  },
  {
   "cell_type": "code",
   "execution_count": 23,
   "metadata": {},
   "outputs": [],
   "source": [
    "a=Agent(16, 4, LEARNING_RATE)"
   ]
  },
  {
   "cell_type": "code",
   "execution_count": 24,
   "metadata": {},
   "outputs": [
    {
     "data": {
      "text/plain": [
       "Adam (\n",
       "Parameter Group 0\n",
       "    amsgrad: False\n",
       "    betas: (0.9, 0.999)\n",
       "    capturable: False\n",
       "    differentiable: False\n",
       "    eps: 1e-08\n",
       "    foreach: None\n",
       "    fused: False\n",
       "    lr: 0.0005\n",
       "    maximize: False\n",
       "    weight_decay: 0\n",
       ")"
      ]
     },
     "execution_count": 24,
     "metadata": {},
     "output_type": "execute_result"
    }
   ],
   "source": [
    "a.optimizer"
   ]
  },
  {
   "cell_type": "code",
   "execution_count": 25,
   "metadata": {},
   "outputs": [],
   "source": [
    "a.step(np.array([123]*16),0,3,np.array([123]*16),False)"
   ]
  },
  {
   "cell_type": "code",
   "execution_count": 26,
   "metadata": {},
   "outputs": [
    {
     "data": {
      "text/plain": [
       "2"
      ]
     },
     "execution_count": 26,
     "metadata": {},
     "output_type": "execute_result"
    }
   ],
   "source": [
    "a.act(np.array(list(range(16))).reshape(4,4))"
   ]
  },
  {
   "cell_type": "code",
   "execution_count": 27,
   "metadata": {},
   "outputs": [
    {
     "name": "stdout",
     "output_type": "stream",
     "text": [
      "tensor([[ 0.,  1.,  2.,  3.],\n",
      "        [ 4.,  5.,  6.,  7.],\n",
      "        [ 8.,  9., 10., 11.],\n",
      "        [12., 13., 14., 15.]])\n",
      "added dimension tensor([[[ 0.,  1.,  2.,  3.],\n",
      "         [ 4.,  5.,  6.,  7.],\n",
      "         [ 8.,  9., 10., 11.],\n",
      "         [12., 13., 14., 15.]]])\n",
      "tensor([[-0.6072, -1.4731,  0.7984,  0.9461]], grad_fn=<AddmmBackward0>)\n",
      "tensor(3)\n"
     ]
    }
   ],
   "source": [
    "state = torch.tensor(np.array(list(range(16))).reshape(4,4)).float()\n",
    "print(state)\n",
    "state = state.unsqueeze(0)\n",
    "print('added dimension',state)\n",
    "print(a.qnetwork_target(state))\n",
    "print(torch.argmax(a.qnetwork_target(state)))\n"
   ]
  },
  {
   "cell_type": "code",
   "execution_count": 28,
   "metadata": {},
   "outputs": [
    {
     "data": {
      "text/plain": [
       "tensor(1)"
      ]
     },
     "execution_count": 28,
     "metadata": {},
     "output_type": "execute_result"
    }
   ],
   "source": [
    "torch.argmax(torch.tensor([[ 0.1125,  0.1978,  0.0226, -0.2571]]))"
   ]
  },
  {
   "cell_type": "code",
   "execution_count": 29,
   "metadata": {},
   "outputs": [
    {
     "data": {
      "text/plain": [
       "experience(state=tensor([[[12.3000, 12.3000, 12.3000, 12.3000],\n",
       "         [12.3000, 12.3000, 12.3000, 12.3000],\n",
       "         [12.3000, 12.3000, 12.3000, 12.3000],\n",
       "         [12.3000, 12.3000, 12.3000, 12.3000]],\n",
       "\n",
       "        [[12.3000, 12.3000, 12.3000, 12.3000],\n",
       "         [12.3000, 12.3000, 12.3000, 12.3000],\n",
       "         [12.3000, 12.3000, 12.3000, 12.3000],\n",
       "         [12.3000, 12.3000, 12.3000, 12.3000]],\n",
       "\n",
       "        [[12.3000, 12.3000, 12.3000, 12.3000],\n",
       "         [12.3000, 12.3000, 12.3000, 12.3000],\n",
       "         [12.3000, 12.3000, 12.3000, 12.3000],\n",
       "         [12.3000, 12.3000, 12.3000, 12.3000]],\n",
       "\n",
       "        ...,\n",
       "\n",
       "        [[12.3000, 12.3000, 12.3000, 12.3000],\n",
       "         [12.3000, 12.3000, 12.3000, 12.3000],\n",
       "         [12.3000, 12.3000, 12.3000, 12.3000],\n",
       "         [12.3000, 12.3000, 12.3000, 12.3000]],\n",
       "\n",
       "        [[12.3000, 12.3000, 12.3000, 12.3000],\n",
       "         [12.3000, 12.3000, 12.3000, 12.3000],\n",
       "         [12.3000, 12.3000, 12.3000, 12.3000],\n",
       "         [12.3000, 12.3000, 12.3000, 12.3000]],\n",
       "\n",
       "        [[12.3000, 12.3000, 12.3000, 12.3000],\n",
       "         [12.3000, 12.3000, 12.3000, 12.3000],\n",
       "         [12.3000, 12.3000, 12.3000, 12.3000],\n",
       "         [12.3000, 12.3000, 12.3000, 12.3000]]]), action=tensor([0., 0., 0., 0., 0., 0., 0., 0., 0., 0., 0., 0., 0., 0., 0., 0., 0., 0., 0., 0., 0., 0., 0., 0.,\n",
       "        0., 0., 0., 0., 0., 0., 0., 0., 0., 0., 0., 0., 0., 0., 0., 0., 0., 0., 0., 0., 0., 0., 0., 0.,\n",
       "        0., 0., 0., 0., 0., 0., 0., 0., 0., 0., 0., 0., 0., 0., 0., 0.]), reward=tensor([3., 3., 3., 3., 3., 3., 3., 3., 3., 3., 3., 3., 3., 3., 3., 3., 3., 3.,\n",
       "        3., 3., 3., 3., 3., 3., 3., 3., 3., 3., 3., 3., 3., 3., 3., 3., 3., 3.,\n",
       "        3., 3., 3., 3., 3., 3., 3., 3., 3., 3., 3., 3., 3., 3., 3., 3., 3., 3.,\n",
       "        3., 3., 3., 3., 3., 3., 3., 3., 3., 3.]), next_state=tensor([[[12.3000, 12.3000, 12.3000, 12.3000],\n",
       "         [12.3000, 12.3000, 12.3000, 12.3000],\n",
       "         [12.3000, 12.3000, 12.3000, 12.3000],\n",
       "         [12.3000, 12.3000, 12.3000, 12.3000]],\n",
       "\n",
       "        [[12.3000, 12.3000, 12.3000, 12.3000],\n",
       "         [12.3000, 12.3000, 12.3000, 12.3000],\n",
       "         [12.3000, 12.3000, 12.3000, 12.3000],\n",
       "         [12.3000, 12.3000, 12.3000, 12.3000]],\n",
       "\n",
       "        [[12.3000, 12.3000, 12.3000, 12.3000],\n",
       "         [12.3000, 12.3000, 12.3000, 12.3000],\n",
       "         [12.3000, 12.3000, 12.3000, 12.3000],\n",
       "         [12.3000, 12.3000, 12.3000, 12.3000]],\n",
       "\n",
       "        ...,\n",
       "\n",
       "        [[12.3000, 12.3000, 12.3000, 12.3000],\n",
       "         [12.3000, 12.3000, 12.3000, 12.3000],\n",
       "         [12.3000, 12.3000, 12.3000, 12.3000],\n",
       "         [12.3000, 12.3000, 12.3000, 12.3000]],\n",
       "\n",
       "        [[12.3000, 12.3000, 12.3000, 12.3000],\n",
       "         [12.3000, 12.3000, 12.3000, 12.3000],\n",
       "         [12.3000, 12.3000, 12.3000, 12.3000],\n",
       "         [12.3000, 12.3000, 12.3000, 12.3000]],\n",
       "\n",
       "        [[12.3000, 12.3000, 12.3000, 12.3000],\n",
       "         [12.3000, 12.3000, 12.3000, 12.3000],\n",
       "         [12.3000, 12.3000, 12.3000, 12.3000],\n",
       "         [12.3000, 12.3000, 12.3000, 12.3000]]]), done=tensor([0., 0., 0., 0., 0., 0., 0., 0., 0., 0., 0., 0., 0., 0., 0., 0., 0., 0., 0., 0., 0., 0., 0., 0.,\n",
       "        0., 0., 0., 0., 0., 0., 0., 0., 0., 0., 0., 0., 0., 0., 0., 0., 0., 0., 0., 0., 0., 0., 0., 0.,\n",
       "        0., 0., 0., 0., 0., 0., 0., 0., 0., 0., 0., 0., 0., 0., 0., 0.]))"
      ]
     },
     "execution_count": 29,
     "metadata": {},
     "output_type": "execute_result"
    }
   ],
   "source": [
    "b.sample()"
   ]
  },
  {
   "cell_type": "code",
   "execution_count": 30,
   "metadata": {},
   "outputs": [
    {
     "data": {
      "text/plain": [
       "torch.Size([64, 4, 4])"
      ]
     },
     "execution_count": 30,
     "metadata": {},
     "output_type": "execute_result"
    }
   ],
   "source": [
    "b.sample().state.shape"
   ]
  },
  {
   "cell_type": "code",
   "execution_count": 31,
   "metadata": {},
   "outputs": [
    {
     "name": "stderr",
     "output_type": "stream",
     "text": [
      "C:\\Users\\felixwong\\AppData\\Local\\Temp\\ipykernel_27584\\1803496910.py:45: UserWarning: Using a target size (torch.Size([64, 64])) that is different to the input size (torch.Size([64])). This will likely lead to incorrect results due to broadcasting. Please ensure they have the same size.\n",
      "  loss = torch.nn.functional.mse_loss(q_expected, q_targets)\n"
     ]
    }
   ],
   "source": [
    "a.learn(b.sample())"
   ]
  },
  {
   "cell_type": "code",
   "execution_count": 32,
   "metadata": {},
   "outputs": [],
   "source": [
    "def train(agent: Agent, n_episodes, max_time_step, eps_start, eps_end, eps_decay):\n",
    "    scores = []\n",
    "    num_rounds = []\n",
    "    scores_window = deque(maxlen=100)\n",
    "    eps = eps_start\n",
    "    for episode in range(n_episodes):\n",
    "        env.reset()\n",
    "        state = env.board\n",
    "        score = 0\n",
    "        rounds = 0\n",
    "        for time_step in range(max_time_step):\n",
    "            action = agent.act(state, eps)\n",
    "            next_state, reward, done = env.step(action)\n",
    "            agent.step(state, action, reward, next_state, done)\n",
    "            state = next_state\n",
    "            score += reward\n",
    "            rounds += 1\n",
    "            if done:\n",
    "                break\n",
    "        scores_window.append(score)\n",
    "        scores.append(score)\n",
    "        num_rounds.append(rounds)\n",
    "        eps = max(eps_end, eps-eps_decay)\n",
    "        if episode % 100 == 0:\n",
    "            print(episode, np.mean(scores_window))\n",
    "            torch.save(agent.qnetwork_local.state_dict(), 'checkpoint.pt')\n",
    "    return scores, num_rounds"
   ]
  },
  {
   "cell_type": "code",
   "execution_count": 33,
   "metadata": {},
   "outputs": [
    {
     "name": "stderr",
     "output_type": "stream",
     "text": [
      "C:\\Users\\felixwong\\AppData\\Local\\Temp\\ipykernel_27584\\1803496910.py:45: UserWarning: Using a target size (torch.Size([64, 64])) that is different to the input size (torch.Size([64])). This will likely lead to incorrect results due to broadcasting. Please ensure they have the same size.\n",
      "  loss = torch.nn.functional.mse_loss(q_expected, q_targets)\n"
     ]
    },
    {
     "name": "stdout",
     "output_type": "stream",
     "text": [
      "0 189.0\n"
     ]
    }
   ],
   "source": [
    "agent = Agent(state_size=16, action_size=4, learning_rate=LEARNING_RATE)\n",
    "scores, num_rounds = train(agent, n_episodes=100, max_time_step=1000, eps_start=1.0, eps_end=0.01, eps_decay=0.01)\n"
   ]
  },
  {
   "cell_type": "code",
   "execution_count": 44,
   "metadata": {},
   "outputs": [
    {
     "data": {
      "text/plain": [
       "[<matplotlib.lines.Line2D at 0x21455afd460>]"
      ]
     },
     "execution_count": 44,
     "metadata": {},
     "output_type": "execute_result"
    },
    {
     "data": {
      "image/png": "[encoded data removed]",
      "text/plain": [
       "<Figure size 432x288 with 1 Axes>"
      ]
     },
     "metadata": {
      "needs_background": "light"
     },
     "output_type": "display_data"
    }
   ],
   "source": [
    "import matplotlib.pyplot as plt\n",
    "plt.plot(num_rounds)"
   ]
  },
  {
   "cell_type": "code",
   "execution_count": 36,
   "metadata": {},
   "outputs": [
    {
     "data": {
      "text/plain": [
       "(array([ 9., 19., 15., 18., 12.,  6.,  7.,  6.,  5.,  3.]),\n",
       " array([ 55. ,  71.2,  87.4, 103.6, 119.8, 136. , 152.2, 168.4, 184.6,\n",
       "        200.8, 217. ]),\n",
       " <BarContainer object of 10 artists>)"
      ]
     },
     "execution_count": 36,
     "metadata": {},
     "output_type": "execute_result"
    },
    {
     "data": {
      "image/png": "[encoded data removed]",
      "text/plain": [
       "<Figure size 432x288 with 1 Axes>"
      ]
     },
     "metadata": {
      "needs_background": "light"
     },
     "output_type": "display_data"
    }
   ],
   "source": [
    "plt.hist(num_rounds)"
   ]
  },
  {
   "cell_type": "code",
   "execution_count": 38,
   "metadata": {},
   "outputs": [
    {
     "data": {
      "text/plain": [
       "110.5"
      ]
     },
     "execution_count": 38,
     "metadata": {},
     "output_type": "execute_result"
    }
   ],
   "source": [
    "np.percentile(num_rounds,50)"
   ]
  },
  {
   "cell_type": "code",
   "execution_count": null,
   "metadata": {},
   "outputs": [],
   "source": []
  }
 ],
 "metadata": {
  "kernelspec": {
   "display_name": "Python 3 (ipykernel)",
   "language": "python",
   "name": "python3"
  },
  "language_info": {
   "codemirror_mode": {
    "name": "ipython",
    "version": 3
   },
   "file_extension": ".py",
   "mimetype": "text/x-python",
   "name": "python",
   "nbconvert_exporter": "python",
   "pygments_lexer": "ipython3",
   "version": "3.9.12"
  },
  "orig_nbformat": 4,
  "vscode": {
   "interpreter": {
    "hash": "1f972118ac7c6a56642233e9551f2790bbdf3f6ed0ba1febcedad4f4ce41f7f1"
   }
  }
 },
 "nbformat": 4,
 "nbformat_minor": 2
}
