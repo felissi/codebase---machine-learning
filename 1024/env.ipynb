{
 "cells": [
  {
   "cell_type": "code",
   "execution_count": 45,
   "metadata": {},
   "outputs": [],
   "source": [
    "import numpy as np\n",
    "import random\n",
    "from typing import Literal, Optional"
   ]
  },
  {
   "cell_type": "code",
   "execution_count": 46,
   "metadata": {},
   "outputs": [
    {
     "data": {
      "text/plain": [
       "{'right': 0, 'up': 90, 'left': 180, 'down': 270}"
      ]
     },
     "execution_count": 46,
     "metadata": {},
     "output_type": "execute_result"
    }
   ],
   "source": [
    "{'right':0,'up':90,'left':180,'down':270}"
   ]
  },
  {
   "cell_type": "code",
   "execution_count": 47,
   "metadata": {},
   "outputs": [],
   "source": [
    "class Rotator:\n",
    "    def __init__(self, degree_to_rotate: Literal[0, 90, 180, 270]):\n",
    "        # self.matrix = matrix\n",
    "        self.degree_to_rotate = degree_to_rotate\n",
    "\n",
    "    def __enter__(self):\n",
    "        pass\n",
    "\n",
    "    def rotate(self, matrix: np.ndarray)-> np.ndarray:\n",
    "        return np.rot90(matrix, k=int(self.degree_to_rotate/90), axes=(1,0))\n",
    "        \n",
    "    @staticmethod\n",
    "    def _rotate( matrix: np.ndarray, degree_to_rotate: Literal[0, 90, 180, 270]):\n",
    "        return np.rot90(matrix, k=int(degree_to_rotate/90), axes=(1,0))\n",
    "\n",
    "        \n",
    "    def unrotate(self, matrix: np.ndarray)-> np.ndarray:\n",
    "        return np.rot90(matrix, k=int(self.degree_to_rotate/90), axes=(0,1))\n",
    "    \n",
    "    @staticmethod\n",
    "    def _unrotate( matrix: np.ndarray, degree_to_rotate: Literal[0, 90, 180, 270]):\n",
    "        return np.rot90(matrix, k=int(degree_to_rotate/90), axes=(0,1))\n",
    "\n",
    "\n",
    "    # @property\n",
    "    # def rotated(self):\n",
    "    #     return self.rotate(self.matrix)\n",
    "    \n",
    "    # @property\n",
    "    # def unrotated(self):\n",
    "    #     return self.unrotate(self.rotated)\n",
    "    \n",
    "    def rot(self, deg: Literal[0, 90, 180, 270]):\n",
    "        self.degree_to_rotate = deg\n",
    "        return self\n",
    "        \n",
    "        \n",
    "        \n",
    "\n",
    "\n"
   ]
  },
  {
   "cell_type": "code",
   "execution_count": 139,
   "metadata": {},
   "outputs": [],
   "source": [
    "class Board:\n",
    "    def __init__(self, n: int=4):\n",
    "        self.actions = {0:('right', 0),1:('up',90),2:('left',180),3:('down',270)}\n",
    "        self.length = n\n",
    "        self.board = self.create_board(n)\n",
    "        self.rotator = Rotator(0)\n",
    "\n",
    "    def create_board(self, length):\n",
    "        return np.zeros((length, length), dtype=np.int32)\n",
    "\n",
    "    def reset(self):\n",
    "        \"\"\" Born a board that either has two 2 or a 2 and 4. \"\"\"\n",
    "        self.clear()\n",
    "        self.random_born()\n",
    "        self.random_born(2 if np.random.random() < 0.5 else 4)\n",
    "\n",
    "    def clear(self):\n",
    "        self.board = self.create_board(self.length)\n",
    "\n",
    "    @staticmethod\n",
    "    def _push(vector: np.ndarray):\n",
    "        \"\"\" Put all elements to the right side (0deg). \"\"\"\n",
    "        v = np.zeros_like(vector)\n",
    "        non_zero = vector[vector != 0]\n",
    "        if len(non_zero) == 0:\n",
    "            return vector\n",
    "        v[-len(non_zero):] = non_zero\n",
    "        vector = v\n",
    "        return vector\n",
    "\n",
    "    @staticmethod\n",
    "    def _join_reverse(vector: np.ndarray):\n",
    "        \"\"\" Join the neighboring elements from left to right, e.g. (2,0,0,2)->(0,0,0,4) \"\"\"\n",
    "        previous = None\n",
    "        previous_index = -1\n",
    "        for i, current in enumerate(vector):\n",
    "            if current == previous:\n",
    "                vector[previous_index], vector[i] = 0, previous+current\n",
    "                previous = None\n",
    "                previous_index = -1\n",
    "\n",
    "                continue\n",
    "            if current != 0:\n",
    "                previous = vector[i]  # Not current as we mutated the vector.\n",
    "                previous_index = i\n",
    "        return vector\n",
    "\n",
    "    @staticmethod\n",
    "    def _join(vector: np.ndarray):\n",
    "        return Board._join_reverse(vector[::-1])[::-1]\n",
    "\n",
    "    @staticmethod\n",
    "    def _squeezable_right(vector: np.ndarray):\n",
    "        \"\"\" If the row vector is filled by all different elements, it is not squeezable. \"\"\"\n",
    "        if np.array_equal(Board._squeeze_right(vector), vector): return False\n",
    "        return True\n",
    "\n",
    "    @staticmethod\n",
    "    def _squeezable(direction: Literal[0, 90, 180, 270], board: np.ndarray):\n",
    "        board = Rotator._rotate(board, direction)\n",
    "        for i, row in enumerate(board):\n",
    "            if Board._squeezable_right(row): return True\n",
    "        return False \n",
    "\n",
    "    def squeezable(self, direction: Literal[0, 90, 180, 270]):\n",
    "        return self._squeezable(direction, self.board)\n",
    "\n",
    "\n",
    "    @staticmethod\n",
    "    def _squeeze_right(vector: np.ndarray):\n",
    "        \"\"\" Squeeze all elements from left to right (0deg). \"\"\"\n",
    "        return Board._push(Board._join(vector))\n",
    "\n",
    "    @staticmethod\n",
    "    def _squeeze(direction: Literal[0, 90, 180, 270], board: np.ndarray):\n",
    "        board = Rotator._rotate(board, direction)\n",
    "        for i, row in enumerate(board):\n",
    "            board[i, :] = Board._squeeze_right(row)\n",
    "        return Rotator._unrotate(board, direction)\n",
    "\n",
    "    def squeeze(self, direction: Literal[0, 90, 180, 270]):\n",
    "        self.board = self._squeeze(direction, self.board)\n",
    "\n",
    "    def _available_index(self, board: np.ndarray):\n",
    "        return [i for i, x in np.ndenumerate(board) if int(x) == 0]\n",
    "\n",
    "    @staticmethod\n",
    "    def available_actions(board: np.ndarray):\n",
    "        return [int(Board._squeezable(direction, board)) for direction in [0,90,180,270]]\n",
    "\n",
    "    def _step(self, action: int, board: np.ndarray):\n",
    "        direction = self.choice_to_direction(action)\n",
    "        \n",
    "        next_board = self._squeeze(direction, board)\n",
    "        next_board = self._random_born(next_board)\n",
    "        reward = Board.evaluate_reward(board, next_board)\n",
    "        done = self._is_done(next_board)\n",
    "        return board, reward, done\n",
    "\n",
    "\n",
    "    def step(self, action: int):\n",
    "        cache_board = self.board.copy()\n",
    "        direction = self.choice_to_direction(action)\n",
    "        self.squeeze(direction)\n",
    "        self.random_born()\n",
    "        reward = Board.evaluate_reward(cache_board, self.board)\n",
    "        done = self.is_done()\n",
    "        return self.board, reward, done\n",
    "\n",
    "\n",
    "    def _random_born(self, board: np.ndarray, num: int = 2):\n",
    "        try:\n",
    "            random_index = random.choice(self._available_index(board))\n",
    "        except IndexError:\n",
    "            raise IndexError('The board is full.')\n",
    "        b = board.copy()\n",
    "        b[random_index] = num\n",
    "        return b\n",
    "\n",
    "    def random_born(self, num: int = 2):\n",
    "        self.board = self._random_born(self.board, num)\n",
    "    \n",
    "    def _is_done(self,board:np.ndarray):\n",
    "        if 0 in board: return False\n",
    "        for deg in [0,90,180,270]:\n",
    "            if self._squeezable(deg, board):\n",
    "                return False\n",
    "        return True\n",
    "\n",
    "    def is_done(self):\n",
    "        return self._is_done(self.board)\n",
    "\n",
    "    \n",
    "    \n",
    "    def choice_to_direction(self,choice: int)->Literal[0, 90, 180, 270]:\n",
    "        return self.actions[choice][1]\n",
    "    \n",
    "    @staticmethod\n",
    "    def evaluate_reward(previous_board:np.ndarray, current_board:np.ndarray):\n",
    "        def nth_max(sorted: np.ndarray, n:int=1)->int:\n",
    "            try:\n",
    "                return sorted[-n]\n",
    "            except IndexError:\n",
    "                return sorted[-1]\n",
    "        # previous_sorted = np.sort(np.unique(previous_board).flatten())\n",
    "        current_sorted = np.sort(np.unique(current_board).flatten())\n",
    "        num_nth_max = lambda board,sorted, n:len(board[board==nth_max(sorted, n)])\n",
    "        \"\"\" IF the num of nth maximum in current_board is greater than that of previous_board, it is doing great\"\"\"\n",
    "        if np.max(current_board) > np.max(previous_board):\n",
    "            return 5\n",
    "        if num_nth_max(current_board,current_sorted, 1) > num_nth_max(previous_board,current_sorted, 1):\n",
    "            return 4\n",
    "        if num_nth_max(current_board,current_sorted, 2) > num_nth_max(previous_board,current_sorted, 2):\n",
    "            return 3\n",
    "        if num_nth_max(current_board,current_sorted, 3) > num_nth_max(previous_board,current_sorted, 3):\n",
    "            return 2\n",
    "        if num_nth_max(current_board,current_sorted, 4) > num_nth_max(previous_board,current_sorted, 4):\n",
    "            return 1\n",
    "        if np.array_equal(current_board, previous_board):\n",
    "            return -5 #invalid\n",
    "        return 0\n",
    "    \n",
    "    @staticmethod\n",
    "    def nth_max(sorted: np.ndarray, n:int=1)->int:\n",
    "        try:\n",
    "            return sorted[-n]\n",
    "        except IndexError:\n",
    "            return sorted[-1]\n",
    "\n",
    "    \n",
    "\n",
    "\n"
   ]
  },
  {
   "cell_type": "code",
   "execution_count": 49,
   "metadata": {},
   "outputs": [],
   "source": [
    "zero_to_31 = [[np.floor((x/2**3)%2),np.floor((x/2**2)%2),np.floor((x/2)%2),x%2] for x in range(2**5)]"
   ]
  },
  {
   "cell_type": "code",
   "execution_count": 50,
   "metadata": {},
   "outputs": [
    {
     "data": {
      "text/plain": [
       "array([0, 0, 4, 8])"
      ]
     },
     "execution_count": 50,
     "metadata": {},
     "output_type": "execute_result"
    }
   ],
   "source": [
    "Board._squeeze_right(np.array([2,2,4,4],dtype=np.int32))"
   ]
  },
  {
   "cell_type": "code",
   "execution_count": 51,
   "metadata": {},
   "outputs": [
    {
     "data": {
      "text/plain": [
       "array([0, 0, 0, 4])"
      ]
     },
     "execution_count": 51,
     "metadata": {},
     "output_type": "execute_result"
    }
   ],
   "source": [
    "Board._join_reverse(np.array([2,0,0,2]))"
   ]
  },
  {
   "cell_type": "code",
   "execution_count": 52,
   "metadata": {},
   "outputs": [],
   "source": [
    "b = Board()"
   ]
  },
  {
   "cell_type": "code",
   "execution_count": 135,
   "metadata": {},
   "outputs": [
    {
     "data": {
      "text/plain": [
       "True"
      ]
     },
     "execution_count": 135,
     "metadata": {},
     "output_type": "execute_result"
    }
   ],
   "source": [
    "b.board = np.array([[4,8,2,4],[8,256,4,64],[2,64,32,4],[8,32,8,2]])\n",
    "b.is_done()\n"
   ]
  },
  {
   "cell_type": "code",
   "execution_count": 136,
   "metadata": {},
   "outputs": [
    {
     "data": {
      "text/plain": [
       "[0, 0, 0, 0]"
      ]
     },
     "execution_count": 136,
     "metadata": {},
     "output_type": "execute_result"
    }
   ],
   "source": [
    "Board.available_actions(b.board)"
   ]
  },
  {
   "cell_type": "code",
   "execution_count": 132,
   "metadata": {},
   "outputs": [
    {
     "data": {
      "text/plain": [
       "array([0, 2, 4])"
      ]
     },
     "execution_count": 132,
     "metadata": {},
     "output_type": "execute_result"
    }
   ],
   "source": [
    "np.sort(np.unique(b.board).flatten())"
   ]
  },
  {
   "cell_type": "code",
   "execution_count": 130,
   "metadata": {},
   "outputs": [
    {
     "data": {
      "text/plain": [
       "array([[0, 0, 0, 0],\n",
       "       [4, 0, 0, 0],\n",
       "       [0, 0, 0, 0],\n",
       "       [0, 0, 0, 2]])"
      ]
     },
     "execution_count": 130,
     "metadata": {},
     "output_type": "execute_result"
    }
   ],
   "source": [
    "b.reset()\n",
    "b.board"
   ]
  },
  {
   "attachments": {},
   "cell_type": "markdown",
   "metadata": {},
   "source": [
    "## Baseline"
   ]
  },
  {
   "attachments": {},
   "cell_type": "markdown",
   "metadata": {},
   "source": [
    "Lets take 10000 samples of random actions for the baseline.  \n",
    "The action is random but valid.  \n",
    "Records how many it can make til the game is ended."
   ]
  },
  {
   "cell_type": "code",
   "execution_count": 143,
   "metadata": {
    "tags": [
     "parameters"
    ]
   },
   "outputs": [],
   "source": [
    "from numba import jit\n",
    "\n",
    "@jit()\n",
    "def sample(n:int=10000, valid=True):\n",
    "    round_counts:list[int] = []\n",
    "    rewards: list[int] = []\n",
    "    for epoch in range(n):\n",
    "        b.reset()\n",
    "        done = False\n",
    "        count = 0\n",
    "        while not done:\n",
    "            action = random.choice([0,1,2,3])\n",
    "            if valid:\n",
    "                while not b.squeezable(b.choice_to_direction(action)):\n",
    "                    action = random.choice([0,1,2,3])\n",
    "\n",
    "            board, reward, done = b.step(action)\n",
    "            rewards.append(reward)\n",
    "            count += 1\n",
    "        round_counts.append(count)\n",
    "    return round_counts, rewards\n",
    "    "
   ]
  },
  {
   "cell_type": "code",
   "execution_count": 57,
   "metadata": {},
   "outputs": [
    {
     "name": "stderr",
     "output_type": "stream",
     "text": [
      "C:\\Users\\user\\AppData\\Local\\Temp\\ipykernel_8036\\4122169050.py:3: NumbaWarning: \u001b[1m\n",
      "Compilation is falling back to object mode WITH looplifting enabled because Function \"bootstrap\" failed type inference due to: \u001b[1mUntyped global name 'b':\u001b[0m \u001b[1m\u001b[1mCannot determine Numba type of <class '__main__.Board'>\u001b[0m\n",
      "\u001b[1m\n",
      "File \"..\\..\\..\\..\\..\\AppData\\Local\\Temp\\ipykernel_8036\\4122169050.py\", line 8:\u001b[0m\n",
      "\u001b[1m<source missing, REPL/exec in use?>\u001b[0m\n",
      "\u001b[0m\u001b[0m\n",
      "  @jit()\n",
      "C:\\Users\\user\\AppData\\Local\\Temp\\ipykernel_8036\\4122169050.py:3: NumbaWarning: \u001b[1m\n",
      "Compilation is falling back to object mode WITHOUT looplifting enabled because Function \"bootstrap\" failed type inference due to: \u001b[1m\u001b[1mCannot determine Numba type of <class 'numba.core.dispatcher.LiftedLoop'>\u001b[0m\n",
      "\u001b[1m\n",
      "File \"..\\..\\..\\..\\..\\AppData\\Local\\Temp\\ipykernel_8036\\4122169050.py\", line 7:\u001b[0m\n",
      "\u001b[1m<source missing, REPL/exec in use?>\u001b[0m\n",
      "\u001b[0m\u001b[0m\n",
      "  @jit()\n",
      "c:\\ProgramData\\Anaconda3\\lib\\site-packages\\numba\\core\\object_mode_passes.py:151: NumbaWarning: \u001b[1mFunction \"bootstrap\" was compiled in object mode without forceobj=True, but has lifted loops.\n",
      "\u001b[1m\n",
      "File \"..\\..\\..\\..\\..\\AppData\\Local\\Temp\\ipykernel_8036\\4122169050.py\", line 5:\u001b[0m\n",
      "\u001b[1m<source missing, REPL/exec in use?>\u001b[0m\n",
      "\u001b[0m\n",
      "  warnings.warn(errors.NumbaWarning(warn_msg,\n",
      "c:\\ProgramData\\Anaconda3\\lib\\site-packages\\numba\\core\\object_mode_passes.py:161: NumbaDeprecationWarning: \u001b[1m\n",
      "Fall-back from the nopython compilation path to the object mode compilation path has been detected, this is deprecated behaviour.\n",
      "\n",
      "For more information visit https://numba.readthedocs.io/en/stable/reference/deprecation.html#deprecation-of-object-mode-fall-back-behaviour-when-using-jit\n",
      "\u001b[1m\n",
      "File \"..\\..\\..\\..\\..\\AppData\\Local\\Temp\\ipykernel_8036\\4122169050.py\", line 5:\u001b[0m\n",
      "\u001b[1m<source missing, REPL/exec in use?>\u001b[0m\n",
      "\u001b[0m\n",
      "  warnings.warn(errors.NumbaDeprecationWarning(msg,\n",
      "C:\\Users\\user\\AppData\\Local\\Temp\\ipykernel_8036\\4122169050.py:3: NumbaWarning: \u001b[1m\n",
      "Compilation is falling back to object mode WITHOUT looplifting enabled because Function \"bootstrap\" failed type inference due to: \u001b[1mUntyped global name 'b':\u001b[0m \u001b[1m\u001b[1mCannot determine Numba type of <class '__main__.Board'>\u001b[0m\n",
      "\u001b[1m\n",
      "File \"..\\..\\..\\..\\..\\AppData\\Local\\Temp\\ipykernel_8036\\4122169050.py\", line 8:\u001b[0m\n",
      "\u001b[1m<source missing, REPL/exec in use?>\u001b[0m\n",
      "\u001b[0m\u001b[0m\n",
      "  @jit()\n",
      "c:\\ProgramData\\Anaconda3\\lib\\site-packages\\numba\\core\\object_mode_passes.py:151: NumbaWarning: \u001b[1mFunction \"bootstrap\" was compiled in object mode without forceobj=True.\n",
      "\u001b[1m\n",
      "File \"..\\..\\..\\..\\..\\AppData\\Local\\Temp\\ipykernel_8036\\4122169050.py\", line 7:\u001b[0m\n",
      "\u001b[1m<source missing, REPL/exec in use?>\u001b[0m\n",
      "\u001b[0m\n",
      "  warnings.warn(errors.NumbaWarning(warn_msg,\n",
      "c:\\ProgramData\\Anaconda3\\lib\\site-packages\\numba\\core\\object_mode_passes.py:161: NumbaDeprecationWarning: \u001b[1m\n",
      "Fall-back from the nopython compilation path to the object mode compilation path has been detected, this is deprecated behaviour.\n",
      "\n",
      "For more information visit https://numba.readthedocs.io/en/stable/reference/deprecation.html#deprecation-of-object-mode-fall-back-behaviour-when-using-jit\n",
      "\u001b[1m\n",
      "File \"..\\..\\..\\..\\..\\AppData\\Local\\Temp\\ipykernel_8036\\4122169050.py\", line 7:\u001b[0m\n",
      "\u001b[1m<source missing, REPL/exec in use?>\u001b[0m\n",
      "\u001b[0m\n",
      "  warnings.warn(errors.NumbaDeprecationWarning(msg,\n"
     ]
    }
   ],
   "source": [
    "round_counts, rewards = sample()"
   ]
  },
  {
   "cell_type": "code",
   "execution_count": 58,
   "metadata": {},
   "outputs": [
    {
     "data": {
      "text/plain": [
       "array([[ 2,  4,  8,  4],\n",
       "       [ 4,  8, 16,  8],\n",
       "       [16, 64, 32,  2],\n",
       "       [ 2, 16,  2, 16]])"
      ]
     },
     "execution_count": 58,
     "metadata": {},
     "output_type": "execute_result"
    }
   ],
   "source": [
    "b.board"
   ]
  },
  {
   "cell_type": "code",
   "execution_count": 59,
   "metadata": {},
   "outputs": [
    {
     "data": {
      "text/plain": [
       "(array([ 356., 2227., 3477., 1944., 1234.,  582.,  130.,   27.,   18.,\n",
       "           5.]),\n",
       " array([ 41. ,  81.7, 122.4, 163.1, 203.8, 244.5, 285.2, 325.9, 366.6,\n",
       "        407.3, 448. ]),\n",
       " <BarContainer object of 10 artists>)"
      ]
     },
     "execution_count": 59,
     "metadata": {},
     "output_type": "execute_result"
    },
    {
     "data": {
      "image/png": "[encoded data removed]",
      "text/plain": [
       "<Figure size 640x480 with 1 Axes>"
      ]
     },
     "metadata": {},
     "output_type": "display_data"
    }
   ],
   "source": [
    "import matplotlib.pyplot as plt\n",
    "plt.hist(round_counts)"
   ]
  },
  {
   "attachments": {},
   "cell_type": "markdown",
   "metadata": {},
   "source": [
    "Surprisingly, the sample is not normal distributed.    \n",
    "it is in fact right tailed.  \n",
    "we may use the median for baseline."
   ]
  },
  {
   "cell_type": "code",
   "execution_count": 60,
   "metadata": {},
   "outputs": [
    {
     "data": {
      "text/plain": [
       "(153.0, 159.3142)"
      ]
     },
     "execution_count": 60,
     "metadata": {},
     "output_type": "execute_result"
    }
   ],
   "source": [
    "np.percentile(round_counts,50), np.mean(round_counts)"
   ]
  },
  {
   "attachments": {},
   "cell_type": "markdown",
   "metadata": {},
   "source": [
    "## Reward span\n"
   ]
  },
  {
   "cell_type": "code",
   "execution_count": 140,
   "metadata": {},
   "outputs": [],
   "source": [
    "_ ,rewards = sample(1000)"
   ]
  },
  {
   "cell_type": "code",
   "execution_count": 141,
   "metadata": {},
   "outputs": [
    {
     "data": {
      "text/plain": [
       "(array([85547.,     0., 28396.,     0., 21049.,     0., 15306.,     0.,\n",
       "         4340.,  3456.]),\n",
       " array([0. , 0.5, 1. , 1.5, 2. , 2.5, 3. , 3.5, 4. , 4.5, 5. ]),\n",
       " <BarContainer object of 10 artists>)"
      ]
     },
     "execution_count": 141,
     "metadata": {},
     "output_type": "execute_result"
    },
    {
     "data": {
      "image/png": "[encoded data removed]",
      "text/plain": [
       "<Figure size 640x480 with 1 Axes>"
      ]
     },
     "metadata": {},
     "output_type": "display_data"
    }
   ],
   "source": [
    "plt.hist(rewards)\n"
   ]
  },
  {
   "cell_type": "code",
   "execution_count": 144,
   "metadata": {},
   "outputs": [
    {
     "name": "stderr",
     "output_type": "stream",
     "text": [
      "C:\\Users\\user\\AppData\\Local\\Temp\\ipykernel_8036\\1198751277.py:3: NumbaWarning: \u001b[1m\n",
      "Compilation is falling back to object mode WITH looplifting enabled because Function \"sample\" failed type inference due to: \u001b[1mUntyped global name 'b':\u001b[0m \u001b[1m\u001b[1mCannot determine Numba type of <class '__main__.Board'>\u001b[0m\n",
      "\u001b[1m\n",
      "File \"..\\..\\..\\..\\..\\AppData\\Local\\Temp\\ipykernel_8036\\1198751277.py\", line 8:\u001b[0m\n",
      "\u001b[1m<source missing, REPL/exec in use?>\u001b[0m\n",
      "\u001b[0m\u001b[0m\n",
      "  @jit()\n",
      "C:\\Users\\user\\AppData\\Local\\Temp\\ipykernel_8036\\1198751277.py:3: NumbaWarning: \u001b[1m\n",
      "Compilation is falling back to object mode WITHOUT looplifting enabled because Function \"sample\" failed type inference due to: \u001b[1m\u001b[1mCannot determine Numba type of <class 'numba.core.dispatcher.LiftedLoop'>\u001b[0m\n",
      "\u001b[1m\n",
      "File \"..\\..\\..\\..\\..\\AppData\\Local\\Temp\\ipykernel_8036\\1198751277.py\", line 7:\u001b[0m\n",
      "\u001b[1m<source missing, REPL/exec in use?>\u001b[0m\n",
      "\u001b[0m\u001b[0m\n",
      "  @jit()\n",
      "c:\\ProgramData\\Anaconda3\\lib\\site-packages\\numba\\core\\object_mode_passes.py:151: NumbaWarning: \u001b[1mFunction \"sample\" was compiled in object mode without forceobj=True, but has lifted loops.\n",
      "\u001b[1m\n",
      "File \"..\\..\\..\\..\\..\\AppData\\Local\\Temp\\ipykernel_8036\\1198751277.py\", line 5:\u001b[0m\n",
      "\u001b[1m<source missing, REPL/exec in use?>\u001b[0m\n",
      "\u001b[0m\n",
      "  warnings.warn(errors.NumbaWarning(warn_msg,\n",
      "c:\\ProgramData\\Anaconda3\\lib\\site-packages\\numba\\core\\object_mode_passes.py:161: NumbaDeprecationWarning: \u001b[1m\n",
      "Fall-back from the nopython compilation path to the object mode compilation path has been detected, this is deprecated behaviour.\n",
      "\n",
      "For more information visit https://numba.readthedocs.io/en/stable/reference/deprecation.html#deprecation-of-object-mode-fall-back-behaviour-when-using-jit\n",
      "\u001b[1m\n",
      "File \"..\\..\\..\\..\\..\\AppData\\Local\\Temp\\ipykernel_8036\\1198751277.py\", line 5:\u001b[0m\n",
      "\u001b[1m<source missing, REPL/exec in use?>\u001b[0m\n",
      "\u001b[0m\n",
      "  warnings.warn(errors.NumbaDeprecationWarning(msg,\n",
      "C:\\Users\\user\\AppData\\Local\\Temp\\ipykernel_8036\\1198751277.py:3: NumbaWarning: \u001b[1m\n",
      "Compilation is falling back to object mode WITHOUT looplifting enabled because Function \"sample\" failed type inference due to: \u001b[1mUntyped global name 'b':\u001b[0m \u001b[1m\u001b[1mCannot determine Numba type of <class '__main__.Board'>\u001b[0m\n",
      "\u001b[1m\n",
      "File \"..\\..\\..\\..\\..\\AppData\\Local\\Temp\\ipykernel_8036\\1198751277.py\", line 8:\u001b[0m\n",
      "\u001b[1m<source missing, REPL/exec in use?>\u001b[0m\n",
      "\u001b[0m\u001b[0m\n",
      "  @jit()\n",
      "c:\\ProgramData\\Anaconda3\\lib\\site-packages\\numba\\core\\object_mode_passes.py:151: NumbaWarning: \u001b[1mFunction \"sample\" was compiled in object mode without forceobj=True.\n",
      "\u001b[1m\n",
      "File \"..\\..\\..\\..\\..\\AppData\\Local\\Temp\\ipykernel_8036\\1198751277.py\", line 7:\u001b[0m\n",
      "\u001b[1m<source missing, REPL/exec in use?>\u001b[0m\n",
      "\u001b[0m\n",
      "  warnings.warn(errors.NumbaWarning(warn_msg,\n",
      "c:\\ProgramData\\Anaconda3\\lib\\site-packages\\numba\\core\\object_mode_passes.py:161: NumbaDeprecationWarning: \u001b[1m\n",
      "Fall-back from the nopython compilation path to the object mode compilation path has been detected, this is deprecated behaviour.\n",
      "\n",
      "For more information visit https://numba.readthedocs.io/en/stable/reference/deprecation.html#deprecation-of-object-mode-fall-back-behaviour-when-using-jit\n",
      "\u001b[1m\n",
      "File \"..\\..\\..\\..\\..\\AppData\\Local\\Temp\\ipykernel_8036\\1198751277.py\", line 7:\u001b[0m\n",
      "\u001b[1m<source missing, REPL/exec in use?>\u001b[0m\n",
      "\u001b[0m\n",
      "  warnings.warn(errors.NumbaDeprecationWarning(msg,\n"
     ]
    },
    {
     "data": {
      "text/plain": [
       "(array([45254.,     0., 27214.,     0., 23309.,     0., 18695.,     0.,\n",
       "         6751.,  4971.]),\n",
       " array([0. , 0.5, 1. , 1.5, 2. , 2.5, 3. , 3.5, 4. , 4.5, 5. ]),\n",
       " <BarContainer object of 10 artists>)"
      ]
     },
     "execution_count": 144,
     "metadata": {},
     "output_type": "execute_result"
    },
    {
     "data": {
      "image/png": "[encoded data removed]",
      "text/plain": [
       "<Figure size 640x480 with 1 Axes>"
      ]
     },
     "metadata": {},
     "output_type": "display_data"
    }
   ],
   "source": [
    "_ ,rewards = sample(1000, valid=False)\n",
    "plt.hist(rewards)\n",
    "\n"
   ]
  },
  {
   "cell_type": "code",
   "execution_count": 145,
   "metadata": {},
   "outputs": [
    {
     "data": {
      "text/plain": [
       "3"
      ]
     },
     "execution_count": 145,
     "metadata": {},
     "output_type": "execute_result"
    }
   ],
   "source": [
    "rewards[rewards==-5]"
   ]
  },
  {
   "cell_type": "code",
   "execution_count": null,
   "metadata": {},
   "outputs": [],
   "source": []
  }
 ],
 "metadata": {
  "kernelspec": {
   "display_name": "base",
   "language": "python",
   "name": "python3"
  },
  "language_info": {
   "codemirror_mode": {
    "name": "ipython",
    "version": 3
   },
   "file_extension": ".py",
   "mimetype": "text/x-python",
   "name": "python",
   "nbconvert_exporter": "python",
   "pygments_lexer": "ipython3",
   "version": "3.9.12"
  },
  "orig_nbformat": 4,
  "vscode": {
   "interpreter": {
    "hash": "1f972118ac7c6a56642233e9551f2790bbdf3f6ed0ba1febcedad4f4ce41f7f1"
   }
  }
 },
 "nbformat": 4,
 "nbformat_minor": 2
}
