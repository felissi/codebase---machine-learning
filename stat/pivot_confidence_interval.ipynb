{
 "cells": [
  {
   "cell_type": "code",
   "execution_count": 62,
   "metadata": {},
   "outputs": [],
   "source": [
    "import numpy as np\n",
    "import matplotlib.pyplot as plt\n",
    "import scipy.stats"
   ]
  },
  {
   "attachments": {},
   "cell_type": "markdown",
   "metadata": {},
   "source": [
    "## 枢轴量"
   ]
  },
  {
   "attachments": {},
   "cell_type": "markdown",
   "metadata": {},
   "source": [
    "1. 构造一个样本和 $\\theta$ 的函数 $G=G(x_1,...,x_n,\\theta)$ 使得 $G$ 的分布不依赖于未知参数，并称它为枢轴量(pivot)。\n",
    "    (即 $G$ 是一個樣本的函數且遵從一個與 $\\theta$ 有關的分佈)\n",
    "2. 选择常数 $c,d$ ，使得对于给定的 $\\alpha$，有 $P(c\\leq G\\leq d)=1-\\alpha$\n",
    "3. 将式子 $c\\leq G\\leq d$ 进行变形，得到 $\\hat{\\theta_L}\\leq \\theta \\leq \\hat{\\theta_U}$，即 $P(\\hat{\\theta_L}\\leq \\theta \\leq \\hat{\\theta_U})=1-\\alpha$，那么这就是一个符合条件的置信区间。"
   ]
  },
  {
   "attachments": {},
   "cell_type": "markdown",
   "metadata": {},
   "source": [
    "> Example 2:  \n",
    "> 设 $X_1,...,X_n$ 为独立同分布(iid)的样本，$X_1 \\sim N(\\mu,\\sigma^2)$ ，求 $\\sigma^2,\\sigma$ 的水平为 $1-\\alpha$ 的置信区间。"
   ]
  },
  {
   "attachments": {},
   "cell_type": "markdown",
   "metadata": {},
   "source": [
    "$S^2=\\frac{\\sum (X_i-\\bar{X})^2}{n-1}$, by sampling theorem. $\\frac{(n-1)S^2}{\\sigma^2} \\sim \\chi^2(n-1)$  \n",
    "$P\\{\\chi^2(n-1,\\frac{\\alpha}{2}) \\leq \\frac{(n-1)S^2}{\\sigma^2} \\leq \\chi^2(n-1,1-\\frac{\\alpha}{2})\\}=1-\\alpha$  \n",
    "we have  \n",
    "$\\frac{(n-1)S^2}{\\chi^2(n-1,1-\\frac{\\alpha}{2})} \\leq \\sigma^2 $ and $\\sigma^2 \\leq \\frac{(n-1)S^2}{\\chi^2(n-1,\\frac{\\alpha}{2})}$"
   ]
  },
  {
   "attachments": {},
   "cell_type": "markdown",
   "metadata": {},
   "source": [
    "> The sampling distribution (sample size = n) of the sample variance is the chi-squared distribution with df = n-1"
   ]
  },
  {
   "attachments": {},
   "cell_type": "markdown",
   "metadata": {},
   "source": [
    "## Test simulation  \n",
    "$\\mu=2.5, \\sigma^2=1.2^2$"
   ]
  },
  {
   "cell_type": "code",
   "execution_count": 63,
   "metadata": {},
   "outputs": [],
   "source": [
    "sample_size = 10000\n",
    "mean_population = 2.5\n",
    "var_population = 1.2**2"
   ]
  },
  {
   "cell_type": "code",
   "execution_count": 64,
   "metadata": {},
   "outputs": [],
   "source": [
    "x_sample = np.random.normal(loc=mean_population, scale=var_population**0.5, size=sample_size)\n",
    "x_mean = np.mean(x_sample)\n",
    "x_s = np.var(x_sample,ddof=1)"
   ]
  },
  {
   "cell_type": "code",
   "execution_count": 65,
   "metadata": {},
   "outputs": [
    {
     "data": {
      "text/plain": [
       "(2.4917427008874298, 1.446902713317581)"
      ]
     },
     "execution_count": 65,
     "metadata": {},
     "output_type": "execute_result"
    }
   ],
   "source": [
    "x_mean,x_s"
   ]
  },
  {
   "cell_type": "code",
   "execution_count": 66,
   "metadata": {},
   "outputs": [],
   "source": [
    "var_upper = x_s/scipy.stats.chi2.ppf(q=0.025,df=sample_size-1)*(sample_size-1)\n",
    "var_lower = x_s/scipy.stats.chi2.ppf(q=1-0.025,df=sample_size-1)*(sample_size-1)"
   ]
  },
  {
   "cell_type": "code",
   "execution_count": 67,
   "metadata": {},
   "outputs": [
    {
     "data": {
      "text/plain": [
       "(1.4076183063862415, 1.4878628779378829)"
      ]
     },
     "execution_count": 67,
     "metadata": {},
     "output_type": "execute_result"
    }
   ],
   "source": [
    "var_lower,var_upper"
   ]
  },
  {
   "cell_type": "code",
   "execution_count": null,
   "metadata": {},
   "outputs": [],
   "source": []
  }
 ],
 "metadata": {
  "kernelspec": {
   "display_name": "data",
   "language": "python",
   "name": "python3"
  },
  "language_info": {
   "codemirror_mode": {
    "name": "ipython",
    "version": 3
   },
   "file_extension": ".py",
   "mimetype": "text/x-python",
   "name": "python",
   "nbconvert_exporter": "python",
   "pygments_lexer": "ipython3",
   "version": "3.9.13"
  },
  "orig_nbformat": 4
 },
 "nbformat": 4,
 "nbformat_minor": 2
}
