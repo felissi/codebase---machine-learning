{
 "cells": [
  {
   "attachments": {},
   "cell_type": "markdown",
   "metadata": {},
   "source": [
    "# Detla method\n"
   ]
  },
  {
   "attachments": {},
   "cell_type": "markdown",
   "metadata": {},
   "source": [
    "## Transformation of MLE(Maximum Likelihood Estimator)\n",
    "- if $\\hat{\\theta}$ is the MLE of $\\theta$, then for any function $\\tau$, $\\tau(\\hat{\\theta})$ is the MLE of $\\tau(\\theta)$\n",
    "\n",
    "Meaning:  \n",
    "If $\\theta$ is the parameter of interest and $\\hat{\\theta}$ is the MLE of $\\theta$, then $\\hat{\\theta}$ is a transformation of another MLE, such that $\\hat{\\theta}=\\tau(\\hat{\\theta_y})$. We can approximate $\\hat{\\theta}$ by using $\\hat{\\theta_y}$  \n",
    "\n"
   ]
  },
  {
   "attachments": {},
   "cell_type": "markdown",
   "metadata": {},
   "source": [
    "### Invariance Property of MLEs\n",
    "Supposed sample mean $\\hat{\\mu}=\\bar{Y}$ is a MLE of the population mean $\\mu$.  \n",
    "Then the MLE of $1/\\mu$ is $1/\\bar{Y}$, which is the point estimator of $1/\\mu$."
   ]
  },
  {
   "attachments": {},
   "cell_type": "markdown",
   "metadata": {},
   "source": [
    "### Variance of MLE transformations\n",
    "What is the confidence interval of the estimate $1/\\hat{\\mu}$?  \n",
    "-   What is $Var[\\tau(\\theta)]$?"
   ]
  },
  {
   "attachments": {},
   "cell_type": "markdown",
   "metadata": {},
   "source": [
    "Assume \n",
    "$$\\hat{\\theta}_i \\sim N(\\theta_0,\\: \\sigma^2/\\sqrt{n})$$  \n",
    "- By central limit theorem, asymptotic normality of MLEs  \n",
    "\n",
    "in other words  \n",
    "$$\\sqrt{n}(\\hat{\\theta}_i-\\theta_0) \\sim N(0, \\: \\sigma^2)$$\n",
    "\n",
    "\n",
    "Then  \n",
    "$$\\sqrt{n}(\\tau(\\hat{\\theta}_i)-\\tau(\\theta_0)) \\sim N(0, \\: [\\tau^{\\prime}(\\theta_0)]^2\\sigma^2)$$  \n",
    "Therefore  \n",
    "$$Var[\\tau(\\theta)] \\approx [\\tau^{\\prime}(\\theta_0)]^2\\sigma^2$$\n"
   ]
  },
  {
   "attachments": {},
   "cell_type": "markdown",
   "metadata": {},
   "source": [
    "### Example: $1/\\mu$"
   ]
  },
  {
   "attachments": {},
   "cell_type": "markdown",
   "metadata": {},
   "source": [
    "$$\\tau(\\mu)=1/\\mu$$  \n",
    "$$\\tau^{\\prime}(\\mu)=\\frac{-1}{\\mu^2}$$  \n",
    "$$\\sqrt{n}(1/\\bar{Y}-1/\\mu) \\sim N(0, \\: (\\frac{-1}{\\mu^2})^2\\sigma^2)$$  \n",
    "Then the variance of $1/\\bar{Y}$ is $\\frac{\\sigma^2}{\\mu^4}$\n"
   ]
  },
  {
   "attachments": {},
   "cell_type": "markdown",
   "metadata": {},
   "source": [
    "Try $Y \\sim N(0.5, \\: 1)$"
   ]
  },
  {
   "attachments": {},
   "cell_type": "markdown",
   "metadata": {},
   "source": [
    "(is $1/\\mu$ a MLE of anything?)"
   ]
  },
  {
   "cell_type": "code",
   "execution_count": 111,
   "metadata": {},
   "outputs": [],
   "source": [
    "import numpy as np\n",
    "import matplotlib.pyplot as plt\n"
   ]
  },
  {
   "cell_type": "code",
   "execution_count": 112,
   "metadata": {},
   "outputs": [],
   "source": [
    "population_mean = 0.5\n",
    "population_sd = 1\n",
    "n = 100000\n",
    "sample_size = 1000"
   ]
  },
  {
   "attachments": {},
   "cell_type": "markdown",
   "metadata": {},
   "source": [
    "population"
   ]
  },
  {
   "cell_type": "code",
   "execution_count": 113,
   "metadata": {},
   "outputs": [
    {
     "data": {
      "text/plain": [
       "(array([5.0000e+00, 1.2200e+02, 1.5580e+03, 9.4310e+03, 2.6712e+04,\n",
       "        3.4846e+04, 2.0880e+04, 5.6850e+03, 7.1400e+02, 4.7000e+01]),\n",
       " array([-4.35211765, -3.4427287 , -2.53333974, -1.62395078, -0.71456183,\n",
       "         0.19482713,  1.10421609,  2.01360504,  2.922994  ,  3.83238296,\n",
       "         4.74177191]),\n",
       " <BarContainer object of 10 artists>)"
      ]
     },
     "execution_count": 113,
     "metadata": {},
     "output_type": "execute_result"
    },
    {
     "data": {
      "image/png": "[encoded data removed]",
      "text/plain": [
       "<Figure size 432x288 with 1 Axes>"
      ]
     },
     "metadata": {
      "needs_background": "light"
     },
     "output_type": "display_data"
    }
   ],
   "source": [
    "np.random.seed(0)\n",
    "y = population_mean + np.random.randn(n)\n",
    "plt.hist(y)\n"
   ]
  },
  {
   "attachments": {},
   "cell_type": "markdown",
   "metadata": {},
   "source": [
    "sample"
   ]
  },
  {
   "cell_type": "code",
   "execution_count": 114,
   "metadata": {},
   "outputs": [
    {
     "data": {
      "text/plain": [
       "(array([  1.,   7.,  48., 108., 200., 249., 213., 110.,  43.,  21.]),\n",
       " array([-3.0438032 , -2.40580761, -1.76781201, -1.12981642, -0.49182082,\n",
       "         0.14617477,  0.78417036,  1.42216596,  2.06016155,  2.69815715,\n",
       "         3.33615274]),\n",
       " <BarContainer object of 10 artists>)"
      ]
     },
     "execution_count": 114,
     "metadata": {},
     "output_type": "execute_result"
    },
    {
     "data": {
      "image/png": "[encoded data removed]",
      "text/plain": [
       "<Figure size 432x288 with 1 Axes>"
      ]
     },
     "metadata": {
      "needs_background": "light"
     },
     "output_type": "display_data"
    }
   ],
   "source": [
    "np.random.seed(0)\n",
    "sample_y = np.random.choice(y, sample_size, replace=False)\n",
    "plt.hist(sample_y)"
   ]
  },
  {
   "cell_type": "code",
   "execution_count": 115,
   "metadata": {},
   "outputs": [
    {
     "data": {
      "text/plain": [
       "(1.9762556457798626, 0.015719008216899196)"
      ]
     },
     "execution_count": 115,
     "metadata": {},
     "output_type": "execute_result"
    }
   ],
   "source": [
    "delta_target = 1/np.mean(sample_y)\n",
    "delta_target_var = np.var(sample_y)/np.mean(sample_y)**4/sample_size\n",
    "(delta_target, delta_target_var) "
   ]
  },
  {
   "attachments": {},
   "cell_type": "markdown",
   "metadata": {},
   "source": [
    "$1/\\mu$ should be $1/0.5=2$  \n",
    "$\\sigma$ should be $1/0.5^4/1000$"
   ]
  },
  {
   "attachments": {},
   "cell_type": "markdown",
   "metadata": {},
   "source": [
    "++The 68% confidence interval++"
   ]
  },
  {
   "cell_type": "code",
   "execution_count": 116,
   "metadata": {},
   "outputs": [
    {
     "data": {
      "text/plain": [
       "(1.850880176820025, 2.1016311147397)"
      ]
     },
     "execution_count": 116,
     "metadata": {},
     "output_type": "execute_result"
    }
   ],
   "source": [
    "(delta_target-delta_target_var**0.5, delta_target+delta_target_var**0.5)"
   ]
  },
  {
   "attachments": {},
   "cell_type": "markdown",
   "metadata": {},
   "source": [
    "## Using bootstrap\n",
    "If using bootstrap to find the exact same thing: $1/\\mu$ and CI"
   ]
  },
  {
   "cell_type": "code",
   "execution_count": 117,
   "metadata": {},
   "outputs": [],
   "source": [
    "def single_bootstrap(sample):\n",
    "    bootstrapped = np.random.choice(sample, len(sample), replace=True)\n",
    "    return 1/np.mean(bootstrapped)\n",
    "\n"
   ]
  },
  {
   "cell_type": "code",
   "execution_count": 118,
   "metadata": {},
   "outputs": [],
   "source": [
    "bootstrap_time = 10000\n",
    "bootstrap_sample = []\n",
    "for i in range(bootstrap_time):\n",
    "    bootstrap_sample.append(single_bootstrap(sample_y))"
   ]
  },
  {
   "cell_type": "code",
   "execution_count": 119,
   "metadata": {},
   "outputs": [
    {
     "data": {
      "text/plain": [
       "(array([4.500e+01, 6.150e+02, 2.207e+03, 3.402e+03, 2.347e+03, 1.009e+03,\n",
       "        3.000e+02, 6.100e+01, 1.200e+01, 2.000e+00]),\n",
       " array([1.588803  , 1.69618831, 1.80357362, 1.91095894, 2.01834425,\n",
       "        2.12572957, 2.23311488, 2.34050019, 2.44788551, 2.55527082,\n",
       "        2.66265613]),\n",
       " <BarContainer object of 10 artists>)"
      ]
     },
     "execution_count": 119,
     "metadata": {},
     "output_type": "execute_result"
    },
    {
     "data": {
      "image/png": "[encoded data removed]",
      "text/plain": [
       "<Figure size 432x288 with 1 Axes>"
      ]
     },
     "metadata": {
      "needs_background": "light"
     },
     "output_type": "display_data"
    }
   ],
   "source": [
    "plt.hist(bootstrap_sample)"
   ]
  },
  {
   "cell_type": "code",
   "execution_count": 120,
   "metadata": {},
   "outputs": [
    {
     "data": {
      "text/plain": [
       "1.9860574970638907"
      ]
     },
     "execution_count": 120,
     "metadata": {},
     "output_type": "execute_result"
    }
   ],
   "source": [
    "np.mean(bootstrap_sample)"
   ]
  },
  {
   "attachments": {},
   "cell_type": "markdown",
   "metadata": {},
   "source": [
    "CI"
   ]
  },
  {
   "cell_type": "code",
   "execution_count": 121,
   "metadata": {},
   "outputs": [
    {
     "data": {
      "text/plain": [
       "(1.8619385725271382, 2.1128037869699337)"
      ]
     },
     "execution_count": 121,
     "metadata": {},
     "output_type": "execute_result"
    }
   ],
   "source": [
    "lower = np.percentile(bootstrap_sample, 50-34)\n",
    "upper = np.percentile(bootstrap_sample, 50+34)\n",
    "(lower, upper) "
   ]
  },
  {
   "attachments": {},
   "cell_type": "markdown",
   "metadata": {},
   "source": [
    "variance"
   ]
  },
  {
   "cell_type": "code",
   "execution_count": 122,
   "metadata": {},
   "outputs": [
    {
     "data": {
      "text/plain": [
       "0.015733338954357433"
      ]
     },
     "execution_count": 122,
     "metadata": {},
     "output_type": "execute_result"
    }
   ],
   "source": [
    "bootstrap_var = ((upper-lower)/2)**2\n",
    "bootstrap_var"
   ]
  },
  {
   "attachments": {},
   "cell_type": "markdown",
   "metadata": {},
   "source": [
    "## Simple validation  \n",
    "sample_y $\\rightarrow$ [inverse] $\\rightarrow$ $\\mu, \\: \\sigma$"
   ]
  },
  {
   "cell_type": "code",
   "execution_count": 123,
   "metadata": {},
   "outputs": [],
   "source": [
    "inversed_sample_y = np.power(sample_y, -1)"
   ]
  },
  {
   "cell_type": "code",
   "execution_count": 124,
   "metadata": {},
   "outputs": [
    {
     "data": {
      "text/plain": [
       "1.0305110343707986"
      ]
     },
     "execution_count": 124,
     "metadata": {},
     "output_type": "execute_result"
    }
   ],
   "source": [
    "np.var(sample_y)"
   ]
  },
  {
   "cell_type": "code",
   "execution_count": 125,
   "metadata": {},
   "outputs": [
    {
     "data": {
      "text/plain": [
       "(array([  1.,   1., 986.,   8.,   3.,   0.,   0.,   0.,   0.,   1.]),\n",
       " array([-335.26183719, -209.90408621,  -84.54633524,   40.81141574,\n",
       "         166.16916672,  291.52691769,  416.88466867,  542.24241964,\n",
       "         667.60017062,  792.95792159,  918.31567257]),\n",
       " <BarContainer object of 10 artists>)"
      ]
     },
     "execution_count": 125,
     "metadata": {},
     "output_type": "execute_result"
    },
    {
     "data": {
      "image/png": "[encoded data removed]",
      "text/plain": [
       "<Figure size 432x288 with 1 Axes>"
      ]
     },
     "metadata": {
      "needs_background": "light"
     },
     "output_type": "display_data"
    }
   ],
   "source": [
    "plt.hist(inversed_sample_y)"
   ]
  },
  {
   "cell_type": "code",
   "execution_count": 126,
   "metadata": {},
   "outputs": [
    {
     "data": {
      "text/plain": [
       "(2.146787731284569, 34.98457902652296)"
      ]
     },
     "execution_count": 126,
     "metadata": {},
     "output_type": "execute_result"
    }
   ],
   "source": [
    "np.mean(inversed_sample_y), np.var(inversed_sample_y)**0.5"
   ]
  },
  {
   "cell_type": "code",
   "execution_count": 127,
   "metadata": {},
   "outputs": [
    {
     "data": {
      "text/plain": [
       "(-1.6226013940712587, 2.648596145591098)"
      ]
     },
     "execution_count": 127,
     "metadata": {},
     "output_type": "execute_result"
    }
   ],
   "source": [
    "np.percentile(inversed_sample_y, 50-34), np.percentile(inversed_sample_y, 50+34)"
   ]
  },
  {
   "cell_type": "code",
   "execution_count": null,
   "metadata": {},
   "outputs": [],
   "source": []
  }
 ],
 "metadata": {
  "kernelspec": {
   "display_name": "base",
   "language": "python",
   "name": "python3"
  },
  "language_info": {
   "codemirror_mode": {
    "name": "ipython",
    "version": 3
   },
   "file_extension": ".py",
   "mimetype": "text/x-python",
   "name": "python",
   "nbconvert_exporter": "python",
   "pygments_lexer": "ipython3",
   "version": "3.9.12"
  },
  "orig_nbformat": 4,
  "vscode": {
   "interpreter": {
    "hash": "1f972118ac7c6a56642233e9551f2790bbdf3f6ed0ba1febcedad4f4ce41f7f1"
   }
  }
 },
 "nbformat": 4,
 "nbformat_minor": 2
}
