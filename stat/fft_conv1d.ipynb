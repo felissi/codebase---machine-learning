{
 "cells": [
  {
   "cell_type": "code",
   "execution_count": 21,
   "metadata": {},
   "outputs": [],
   "source": [
    "import numpy as np\n",
    "import matplotlib.pyplot as plt\n"
   ]
  },
  {
   "cell_type": "code",
   "execution_count": 2,
   "metadata": {},
   "outputs": [],
   "source": [
    "from typing import Literal\n",
    "\n",
    "\n",
    "def fftconvolve(x, y, mode: Literal['full', 'same', 'valid'] = 'full'):\n",
    "    _len = {'full': len(x) + len(y) - 1,\n",
    "            'same': max(len(x), len(y)),\n",
    "            'valid': max(len(x), len(y)) - min(len(x), len(y)) + 1\n",
    "            }\n",
    "    # The full operation is taken first, post operation is taken for 'same' and 'valid' (for the signal boundary)\n",
    "    length = _len['full']\n",
    "\n",
    "    def _padding_zeros(arr):\n",
    "        # padding the signals\n",
    "        return np.pad(arr, (0, length - len(arr)), 'constant')\n",
    "    _x_pad = _padding_zeros(x)\n",
    "    _y_pad = _padding_zeros(y)\n",
    "    c = np.fft.ifft(np.fft.fft(_x_pad)*np.fft.fft(_y_pad))\n",
    "    if mode == 'full':\n",
    "        return c.real\n",
    "    if mode in ['same', 'valid']:\n",
    "        start_index = int(np.floor((length-_len[mode])/2))\n",
    "        return c[start_index: start_index + _len[mode]].real"
   ]
  },
  {
   "attachments": {},
   "cell_type": "markdown",
   "metadata": {},
   "source": [
    "## Test"
   ]
  },
  {
   "cell_type": "code",
   "execution_count": 3,
   "metadata": {},
   "outputs": [],
   "source": [
    "# Define the test cases\n",
    "test_cases = [\n",
    "    # Test case 1: small inputs\n",
    "    ([1, 2, 3], [4, 5]),\n",
    "    \n",
    "    # Test case 2: small inputs with same length\n",
    "    ([1, 2], [3, 4]),\n",
    "    \n",
    "    # Test case 3: small inputs with different lengths\n",
    "    ([1, 2], [3, 4, 5]),\n",
    "    \n",
    "    # Test case 4: larger inputs with same length\n",
    "    (list(range(10)), list(range(10, 20))),\n",
    "    \n",
    "    # Test case 5: larger inputs with different lengths\n",
    "    (list(range(10)), list(range(20, 30))),\n",
    "    \n",
    "    # Test case 6: inputs with negative values\n",
    "    ([-1, 2, -3, 4, -5], [10, -20]),\n",
    "    \n",
    "    # Test case 7: inputs with decimal values\n",
    "    ([1.0, 2.5, 3.75], [0.5, 1.25]),\n",
    "    \n",
    "    # Test case 8: inputs with only one value\n",
    "    ([5], [10, 20]),\n",
    "    \n",
    "    # Test case 9: inputs with only onevalue (same length)\n",
    "    ([5], [10]),\n",
    "    \n",
    "    # Test case 10: inputs with only one value (different lengths)\n",
    "    ([5], [10, 20, 30]),\n",
    "    \n",
    "    # Test case 11: inputs with repeated values\n",
    "    ([1, 2, 2, 3], [1, 2, 2, 3]),\n",
    "    \n",
    "    # Test case 12: inputs with all zeros\n",
    "    ([0, 0, 0], [0, 0, 0]),\n",
    "    \n",
    "    # Test case 13: inputs with only positive values\n",
    "    ([1, 2, 3, 4], [5, 6, 7, 8]),\n",
    "    \n",
    "    # Test case 14: inputs with only negative values\n",
    "    ([-1, -2, -3, -4], [-5, -6, -7, -8]),\n",
    "    \n",
    "    # Test case 15: inputs with alternating positive and negative values\n",
    "    ([1, -2, 3, -4, 5], [10, -20, 30]),\n",
    "    \n",
    "    # Test case 16: inputs with random positive and negative values\n",
    "    ([4, -2, 6, -3, 8], [10, -5, 7, -2]),\n",
    "\n",
    "     # Test case 17: inputs with random positive and negative decimal values\n",
    "    ([1.5, -2.3, 3.7, -4.1], [0.2, -0.5, 0.8]),\n",
    "    \n",
    "    # Test case 18: inputs with large values\n",
    "    ([1000, 2000, 3000], [500, 600, 700]),\n",
    "    \n",
    "    # Test case 19: inputs with very small values\n",
    "    ([1e-6, 2e-6, 3e-6], [4e-6, 5e-6, 6e-6]),\n",
    "    \n",
    "    # Test case 20: inputs with very large and very small values\n",
    "    ([1e6, 2e6, 3e6], [4e-6, 5e-6, 6e-6])\n",
    "]\n",
    "# Test the function with each test case\n",
    "for x, y in test_cases:\n",
    "    for mode in ['full', 'same', 'valid']:\n",
    "        # Use fftconvolve function\n",
    "        my_result = fftconvolve(x, y, mode)\n",
    "        \n",
    "        # Use np.convolve function\n",
    "        np_result = np.convolve(x, y, mode=mode)\n",
    "        \n",
    "        # Compare the results\n",
    "        assert np.allclose(my_result, np_result), f\"Error: mode={mode}, x={x}, y={y}, my_result={my_result}, np_result={np_result}\"\n"
   ]
  },
  {
   "cell_type": "code",
   "execution_count": 5,
   "metadata": {},
   "outputs": [
    {
     "data": {
      "text/plain": [
       "array([1. , 2.5, 4. ])"
      ]
     },
     "execution_count": 5,
     "metadata": {},
     "output_type": "execute_result"
    }
   ],
   "source": [
    "fftconvolve([1,2,3],[0,1,0.5], 'same')"
   ]
  },
  {
   "cell_type": "code",
   "execution_count": 18,
   "metadata": {},
   "outputs": [
    {
     "data": {
      "text/plain": [
       "array([ 4.38245931e-17, -1.40238698e-16,  1.00000000e+00,  2.00000000e+00,\n",
       "        3.00000000e+00,  2.00000000e+00,  1.00000000e+00,  3.73969861e-16,\n",
       "        0.00000000e+00,  0.00000000e+00])"
      ]
     },
     "execution_count": 18,
     "metadata": {},
     "output_type": "execute_result"
    }
   ],
   "source": [
    "fftconvolve([0,0,0,1,1,1,0,0,0,0],[0,0,0,1,1,1,0,0,0,0], 'same')\n"
   ]
  },
  {
   "cell_type": "code",
   "execution_count": 19,
   "metadata": {},
   "outputs": [
    {
     "data": {
      "text/plain": [
       "array([0, 0, 1, 2, 3, 2, 1, 0, 0, 0])"
      ]
     },
     "execution_count": 19,
     "metadata": {},
     "output_type": "execute_result"
    }
   ],
   "source": [
    "np.convolve([0,0,0,1,1,1,0,0,0,0],[0,0,0,1,1,1,0,0,0,0], 'same')"
   ]
  },
  {
   "attachments": {},
   "cell_type": "markdown",
   "metadata": {},
   "source": [
    "## Test no padding"
   ]
  },
  {
   "cell_type": "code",
   "execution_count": 58,
   "metadata": {},
   "outputs": [],
   "source": [
    "\n",
    "def test_padding(x, y, mode: Literal['full', 'same', 'valid'] = 'full'):\n",
    "    _len = {'full': len(x) + len(y) - 1,\n",
    "            'same': max(len(x), len(y)),\n",
    "            'valid': max(len(x), len(y)) - min(len(x), len(y)) + 1\n",
    "            }\n",
    "    # The full operation is taken first, post operation is taken for 'same' and 'valid' (for the signal boundary)\n",
    "    length = _len['full']\n",
    "\n",
    "    def _padding_zeros(arr):\n",
    "        # padding the signals\n",
    "        return np.pad(arr, (0, length - len(arr)), 'constant')\n",
    "    _x_pad = _padding_zeros(x)\n",
    "    _y_pad = _padding_zeros(y)\n",
    "    print(np.fft.fft(x),np.fft.fft(y),sep='\\n')\n",
    "    print('\\n')\n",
    "    print(np.fft.fft(_x_pad),np.fft.fft(_y_pad),sep='\\n')\n",
    "    print('\\n')\n",
    "    print(np.fft.ifft(np.fft.fft(x)),np.fft.ifft(np.fft.fft(y)),sep='\\n')\n",
    "    print('\\n')\n",
    "    print(np.fft.ifft(np.fft.fft(_x_pad)),np.fft.ifft(np.fft.fft(_y_pad)),sep='\\n')\n",
    "    print('\\n')\n",
    "    print(np.fft.fft(x)*np.fft.fft(y),np.fft.fft(_x_pad)*np.fft.fft(_y_pad),sep='\\n')\n",
    "    "
   ]
  },
  {
   "cell_type": "code",
   "execution_count": 59,
   "metadata": {},
   "outputs": [
    {
     "name": "stdout",
     "output_type": "stream",
     "text": [
      "[ 6. +0.j        -1.5+0.8660254j -1.5-0.8660254j]\n",
      "[ 1.5 +0.j        -0.75-0.4330127j -0.75+0.4330127j]\n",
      "\n",
      "\n",
      "[ 6.        +0.j         -0.80901699-3.66546879j  0.30901699+1.67759904j\n",
      "  0.30901699-1.67759904j -0.80901699+3.66546879j]\n",
      "[ 1.5      +0.j         -0.0954915-1.24494914j -0.6545085-0.11225699j\n",
      " -0.6545085+0.11225699j -0.0954915+1.24494914j]\n",
      "\n",
      "\n",
      "[1.+0.j 2.+0.j 3.+0.j]\n",
      "[0. +0.j 1. +0.j 0.5+0.j]\n",
      "\n",
      "\n",
      "[1.+0.j 2.+0.j 3.+0.j 0.+0.j 0.+0.j]\n",
      "[0.0000000e+00+0.j 1.0000000e+00+0.j 5.0000000e-01+0.j 0.0000000e+00+0.j\n",
      " 8.8817842e-17+0.j]\n",
      "\n",
      "\n",
      "[9. +0.j 1.5+0.j 1.5+0.j]\n",
      "[ 9.        +0.j         -4.48606798+1.35720614j -0.01393202-1.13269215j\n",
      " -0.01393202+1.13269215j -4.48606798-1.35720614j]\n"
     ]
    }
   ],
   "source": [
    "test_padding([1,2,3],[0,1,0.5], 'same')"
   ]
  },
  {
   "cell_type": "code",
   "execution_count": 40,
   "metadata": {},
   "outputs": [],
   "source": [
    "def fake_fftconvolve(x, y):\n",
    "    ''' Perso method to do FFT convolution'''\n",
    "    fftx = np.fft.fft(x)\n",
    "    ffty = np.fft.fft(y)\n",
    "    fftc = fftx * ffty\n",
    "    c = np.fft.ifft(fftc)\n",
    "    return c.real\n"
   ]
  },
  {
   "cell_type": "code",
   "execution_count": 53,
   "metadata": {},
   "outputs": [
    {
     "name": "stderr",
     "output_type": "stream",
     "text": [
      "C:\\Users\\user\\AppData\\Local\\Temp\\ipykernel_8904\\1564035967.py:5: UserWarning: Legend does not support handles for str instances.\n",
      "A proxy artist may be used instead.\n",
      "See: https://matplotlib.org/stable/tutorials/intermediate/legend_guide.html#controlling-the-legend-entries\n",
      "  plt.legend('conv1','conv2')\n"
     ]
    },
    {
     "data": {
      "image/png": "[encoded data removed]",
      "text/plain": [
       "<Figure size 640x480 with 1 Axes>"
      ]
     },
     "metadata": {},
     "output_type": "display_data"
    }
   ],
   "source": [
    "conv1=fake_fftconvolve([1, 2], [3, 4])\n",
    "conv2=fftconvolve([1, 2], [3, 4], 'same')\n",
    "plt.plot(np.linspace(0,2,len(conv1)),conv1)\n",
    "plt.plot(np.linspace(0,2,len(conv2)),conv2)\n",
    "plt.legend('conv1','conv2')\n",
    "plt.show()"
   ]
  },
  {
   "cell_type": "code",
   "execution_count": null,
   "metadata": {},
   "outputs": [],
   "source": []
  }
 ],
 "metadata": {
  "kernelspec": {
   "display_name": "machine-learning",
   "language": "python",
   "name": "python3"
  },
  "language_info": {
   "codemirror_mode": {
    "name": "ipython",
    "version": 3
   },
   "file_extension": ".py",
   "mimetype": "text/x-python",
   "name": "python",
   "nbconvert_exporter": "python",
   "pygments_lexer": "ipython3",
   "version": "3.10.9"
  },
  "orig_nbformat": 4
 },
 "nbformat": 4,
 "nbformat_minor": 2
}
