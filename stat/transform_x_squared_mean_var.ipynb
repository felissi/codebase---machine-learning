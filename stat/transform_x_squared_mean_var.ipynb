{
 "cells": [
  {
   "cell_type": "code",
   "execution_count": 9,
   "metadata": {},
   "outputs": [],
   "source": [
    "import numpy as np \n",
    "import matplotlib.pyplot as plt"
   ]
  },
  {
   "cell_type": "code",
   "execution_count": 10,
   "metadata": {},
   "outputs": [],
   "source": [
    "num=int(1e6)"
   ]
  },
  {
   "cell_type": "code",
   "execution_count": 11,
   "metadata": {},
   "outputs": [],
   "source": [
    "x_uni=np.random.uniform(0,1,num)"
   ]
  },
  {
   "cell_type": "code",
   "execution_count": 12,
   "metadata": {},
   "outputs": [
    {
     "data": {
      "text/plain": [
       "(array([0.99993078, 0.99714077, 0.99818078, 1.00461078, 0.99657077,\n",
       "        0.99979078, 0.99854078, 0.99950078, 1.00370078, 1.00204078]),\n",
       " array([3.16994179e-07, 1.00000239e-01, 2.00000162e-01, 3.00000084e-01,\n",
       "        4.00000006e-01, 4.99999928e-01, 5.99999851e-01, 6.99999773e-01,\n",
       "        7.99999695e-01, 8.99999618e-01, 9.99999540e-01]),\n",
       " <BarContainer object of 10 artists>)"
      ]
     },
     "execution_count": 12,
     "metadata": {},
     "output_type": "execute_result"
    },
    {
     "data": {
      "image/png": "[encoded data removed]",
      "text/plain": [
       "<Figure size 640x480 with 1 Axes>"
      ]
     },
     "metadata": {},
     "output_type": "display_data"
    }
   ],
   "source": [
    "plt.hist(x_uni,density=True)"
   ]
  },
  {
   "attachments": {},
   "cell_type": "markdown",
   "metadata": {},
   "source": [
    "#### pdf of Y=X^2  "
   ]
  },
  {
   "attachments": {},
   "cell_type": "markdown",
   "metadata": {},
   "source": [
    "\n",
    "\\begin{aligned} \\\\\n",
    "pdf(Y)&=pdf(X)/|dy/dx|  \\\\\n",
    "&=\\frac{f_X(x)}{2x}\\\\\n",
    "&=\\frac{f_X(\\sqrt{y})}{2\\sqrt{y}}\\\\\n",
    "&=\\frac{1}{2\\sqrt{y}}\\\\\n",
    "\\end{aligned}"
   ]
  },
  {
   "cell_type": "code",
   "execution_count": 28,
   "metadata": {},
   "outputs": [
    {
     "name": "stdout",
     "output_type": "stream",
     "text": [
      "[3.15842291 1.31415121 0.99841092 0.84973078 0.74451069 0.67608062\n",
      " 0.62407057 0.57745053 0.5433805  0.51380047] [1.00485310e-13 9.99999080e-02 1.99999816e-01 2.99999724e-01\n",
      " 3.99999632e-01 4.99999540e-01 5.99999448e-01 6.99999356e-01\n",
      " 7.99999264e-01 8.99999172e-01 9.99999080e-01]\n"
     ]
    },
    {
     "name": "stderr",
     "output_type": "stream",
     "text": [
      "C:\\Users\\felixwong\\AppData\\Local\\Temp\\ipykernel_33128\\2183068725.py:4: RuntimeWarning: divide by zero encountered in true_divide\n",
      "  pdf_y1=lambda x: 1/(2*np.sqrt(x))\n"
     ]
    },
    {
     "data": {
      "text/plain": [
       "[<matplotlib.lines.Line2D at 0x19b59f7e910>]"
      ]
     },
     "execution_count": 28,
     "metadata": {},
     "output_type": "execute_result"
    },
    {
     "data": {
      "image/png": "[encoded data removed]",
      "text/plain": [
       "<Figure size 640x480 with 1 Axes>"
      ]
     },
     "metadata": {},
     "output_type": "display_data"
    }
   ],
   "source": [
    "y1=x_uni**2\n",
    "count,bins,_=plt.hist(y1,density=True)\n",
    "pdf_y1=lambda x: 1/(2*np.sqrt(x))\n",
    "plt.plot(np.linspace(0,1,100),pdf_y1(np.linspace(0,1,100)))"
   ]
  },
  {
   "attachments": {},
   "cell_type": "markdown",
   "metadata": {},
   "source": [
    "#### Mean and variance of Y=X^2"
   ]
  },
  {
   "attachments": {},
   "cell_type": "markdown",
   "metadata": {},
   "source": [
    "$X=Uniform(0,1)$  \n",
    "$Y=X^2$  \n",
    "$E[Y]=E[X^2]=Var(X)+E[X]^2$  \n",
    "$Var(Y)=E(X^4)-E[Y]^2$"
   ]
  },
  {
   "attachments": {},
   "cell_type": "markdown",
   "metadata": {},
   "source": [
    "#### numerical  \n",
    "$E[Y]=1/12+(1/2)^2=1/3$  \n",
    "$E[X^4]=\\int^1_0\\frac{x^4}{b-a}dx=1/5$  \n",
    "$Var(Y)=1/5-(1/3)^2=0.08888$"
   ]
  },
  {
   "attachments": {},
   "cell_type": "markdown",
   "metadata": {},
   "source": [
    "#### practical"
   ]
  },
  {
   "cell_type": "code",
   "execution_count": 14,
   "metadata": {},
   "outputs": [
    {
     "data": {
      "text/plain": [
       "(0.3336373386952069, 0.08897885312759952)"
      ]
     },
     "execution_count": 14,
     "metadata": {},
     "output_type": "execute_result"
    }
   ],
   "source": [
    "np.mean(y1),np.var(y1)"
   ]
  },
  {
   "attachments": {},
   "cell_type": "markdown",
   "metadata": {},
   "source": [
    "#### based on X"
   ]
  },
  {
   "cell_type": "code",
   "execution_count": 29,
   "metadata": {},
   "outputs": [
    {
     "data": {
      "text/plain": [
       "(0.33363733869520695, 0.08897885312759955)"
      ]
     },
     "execution_count": 29,
     "metadata": {},
     "output_type": "execute_result"
    }
   ],
   "source": [
    "mean_y1_cal = np.mean(x_uni)**2+np.var(x_uni)\n",
    "var_y1_cal = np.mean(x_uni**4) - mean_y1_cal**2\n",
    "mean_y1_cal,var_y1_cal"
   ]
  },
  {
   "attachments": {},
   "cell_type": "markdown",
   "metadata": {},
   "source": [
    "#### From fundamental principle"
   ]
  },
  {
   "attachments": {},
   "cell_type": "markdown",
   "metadata": {},
   "source": [
    "\n",
    "$$\n",
    "\\begin{aligned} \n",
    "E[Y]&=\\int^1_0 yf_Y(y)dy \\\\\n",
    "&=\\int^1_0 x^2\\frac{1}{2x}dy \\\\\n",
    "&=\\int^1_0 x^2\\frac{1}{2x}2xdx \\\\\n",
    "&=\\int^1_0 x^2dx \\\\\n",
    "&=1/3 \n",
    "\\end{aligned}\n",
    "$$"
   ]
  },
  {
   "attachments": {},
   "cell_type": "markdown",
   "metadata": {},
   "source": [
    "$$\n",
    "Similarly,    \\\\\n",
    "E[Y^2]=\\int y^2f_Y(y)dy=\\int x^4dx=1/5\n",
    "$$"
   ]
  }
 ],
 "metadata": {
  "kernelspec": {
   "display_name": "data",
   "language": "python",
   "name": "python3"
  },
  "language_info": {
   "codemirror_mode": {
    "name": "ipython",
    "version": 3
   },
   "file_extension": ".py",
   "mimetype": "text/x-python",
   "name": "python",
   "nbconvert_exporter": "python",
   "pygments_lexer": "ipython3",
   "version": "3.9.13"
  },
  "orig_nbformat": 4
 },
 "nbformat": 4,
 "nbformat_minor": 2
}
